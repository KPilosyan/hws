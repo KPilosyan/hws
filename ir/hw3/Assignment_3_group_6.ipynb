{
 "cells": [
  {
   "cell_type": "markdown",
   "metadata": {},
   "source": [
    "# Assignment 03 - Information Retrieval 2021\n",
    "## Group 06:\n",
    "### - Karen Pilosyan\n",
    "### - Nidhi Dhakan\n",
    "### - Johan Porras"
   ]
  },
  {
   "cell_type": "code",
   "execution_count": 8,
   "metadata": {},
   "outputs": [],
   "source": [
    "# First need to create the index schema\n",
    "# In this case we will only use one field 'content'of which the entire dicument content is to be indexed/stored\n",
    "from whoosh.fields import Schema, TEXT\n",
    "from whoosh.analysis import StemmingAnalyzer\n",
    "# Add keyworkd analyzer with lowercase filter\n",
    "schema = Schema(content=TEXT(analyzer= StemmingAnalyzer(stoplist=frozenset(['and', 'is', 'it', 'an', 'as', 'at', 'have', 'in', 'yet', 'if', 'from', 'for', 'when', 'by', 'to', 'you', 'be', 'we', 'that', 'may', 'not', 'with', 'tbd', 'a', 'on', 'your', 'this', 'of', 'us', 'will', 'can', 'the', 'or', 'are'])),phrase=True, stored=True))"
   ]
  },
  {
   "cell_type": "code",
   "execution_count": 9,
   "metadata": {},
   "outputs": [],
   "source": [
    "# Create folder structure to store index\n",
    "import os.path\n",
    "from whoosh.index import create_in\n",
    "if not os.path.exists(\"index\"):\n",
    "    os.mkdir(\"index\")\n",
    "ix = create_in(\"index\", schema)"
   ]
  },
  {
   "cell_type": "code",
   "execution_count": 10,
   "metadata": {},
   "outputs": [],
   "source": [
    "# Initialize index writer in order to add documents to it.\n",
    "writer = ix.writer()\n",
    "# Read textual documents from file\n",
    "documents_path = './AssociatedPress.txt'\n",
    "with open(documents_path, 'r', encoding='utf-8') as doc_f:\n",
    "    corpus_list = doc_f.readlines()\n",
    "# Index documents\n",
    "for x in corpus_list:\n",
    "    writer.add_document(content= x)\n",
    "\n",
    "writer.commit()"
   ]
  },
  {
   "cell_type": "code",
   "execution_count": 11,
   "metadata": {},
   "outputs": [],
   "source": [
    "# Search with query parser\n",
    "from whoosh.qparser import QueryParser\n",
    "\n",
    "def search_and_print(query):\n",
    "    with ix.searcher() as s:\n",
    "        results = s.search(query)\n",
    "        print(len(results))\n",
    "        # Print Results\n",
    "        #for r in results:\n",
    "        #    print(r)\n",
    "        print(\"Content :\", results[0][\"content\"]) # print the content of each result.\n",
    "\n",
    "        found = results.scored_length()\n",
    "        if results.has_exact_length():\n",
    "            print(\"Scored\", found, \"of exactly\", len(results), \"documents\")\n",
    "        else:\n",
    "            low = results.estimated_min_length()\n",
    "            high = results.estimated_length()\n",
    "\n",
    "            print(\"Scored\", found, \"of between\", low, \"and\", high, \"documents\")\n"
   ]
  },
  {
   "cell_type": "code",
   "execution_count": 12,
   "metadata": {},
   "outputs": [
    {
     "name": "stdout",
     "output_type": "stream",
     "text": [
      "70\n",
      "Content : Jesse Jackson issued an emotional appeal today for supporters to back the Democratic ticket and told Michael Dukakis and Lloyd Bentsen that he will be keeping up the ``street heat'' to make sure they don't forget his constituents. ``It is in order and it is right to support this ticket because of our access to it and our relaionship with it,'' Jackson told several hundred delegates as Dukakis and Bentsen looked on. ``We have every reason to be hopeful, to be excited, to know that we are close to where we are going, a long way from where we started,'' Jackson said. ``And in our lifetime you and I will be in the White House.'' He introduced Dukakis as ``a man I've come to know, to respect ... a man I've come to ... love because of his own sensitivity to family,'' Jackson added: ``I bring to you a man I plan to watch up close ... when he becomes ... the next president of the United States _ Michael Dukakis.'' The group erupted in applause and shouts of ``Duke, Duke.'' ``We're going to need you, we want you, we can't win without you,'' Dukakis responded. Jackson issued a blistering attack on the Reagan record and called for Democratic unity. A progressive agenda will be won with ``a combination of street heat and leadership,'' he said. He promised Dukakis, ``There will be enough heat to cook our meat and enough heat for George Bush to get out of the kitchen.'' Jackson recalled that when Lyndon B. Johnson was added to the ticket in 1960, some civil rights activists were concered. But Johnson rose to the occasion, Jackson said. Turning to Bentsen, he said, ``In a real sense, your occasion is now... You ask us to trust you. All we can ask of anyone is that they not betray that trust.'' Jackson repeated that he wants neither a job nor a title with the Dukakis operation. ``I want to serve, free to serve at my own pace, free to serve, free to challenge,'' he said. He said he expects his own relationship with the ticket will influence some policies. ``What does it mean to me in practical terms?'' Jackson asked. ``The contras have lost a vote.'' Bentsen _ who has voted for aid to the Nicaraguan rebels _ and Dukakis politely joined the applause as delegates chanted, ``No contra aid.'' Jackson, who had been the last survivor in the Democratic field against Dukakis, had endorsed the ticket at Thursday night's closing session of the party's convention. At the end of the long road, Jackson said, ``I feel fantastic.'' But it was clear he would have to do some selling to whip up enthusiasn for the Dukakis-Bentsen ticket. Jesse Jackson embraced the Democratic ticket he had wanted to head and gave the Democrats the unity send-off they sought for victory in the November election. As he strode from the podium where he joined Democratic nominee Michael Dukakis on Thursday night, Jackson said, ``We have a good ticket and a good team. And if the unity that is expressed here tonight is sustained and expands, we will win and we will deserve to win.'' Asked his own feeling at the close of the convention, he said, ``I feel fantastic.'' With the dust hardly settled from his own presidential campaign, Jackson today was looking ahead to new political ventures. He called a meeting today of his 1,200 delegates to include them in his plans to campaign for the Dukakis ticket, raise money for his own political action committee and register voters. It appeared Thursday night that he would have to do some selling to whip up enthusiasm among some delegates for the team of Dukakis and Sen. Lloyd Bentsen of Texas. Signs reading ``No Contra aid'' printed up by members of the Vermont delegation were held up by several Jackson delegates around the hall. Dukakis opposes aid to the Nicaraguan Contra rebels, while Bentsen has voted for it in the past. ``He's against peace,'' said Vermont delegate Cindy Milstein who mentioned several pro-military stands by Bentsen. But Jackson officials circulated a statement from him to his delegates before the vice presidential vote, urging support of Bentsen. The brief statement said that while he disagrees with Dukakis and Bentsen on some issues, ``our interest converges in building a coalition to beat the Republicans this fall.'' Jackson's appearance in the hall later was clearly appreciated. At the mention of his name by Dukakis, a deafening cheer went up from both Jackson and Dukakis delegates. At first Jackson sat unnoticed in a VIP box with former President Jimmy Carter, an uncustomary role for Jackson, until Dukakis waved to him. Jackson stood, gave a thumbs up and the delegates erupted in emotion.\n",
      "\n",
      "Scored 10 of between 74 and 74 documents\n",
      "278\n",
      "Content : George Bush campaigned behind enemy lines on Thursday with a foray into Massachusetts, while Michael Dukakis charged the vice president with favoring $7 billion in new taxes and said, ``so much for iron-clad no-tax commitments.'' Dukakis, who will fly to Atlanta in 10 days to claim the Democratic presidential nomination, also said Bush had made a ``rather late commitment'' when he said Wednesday that he would name a Hispanic American to his Cabinet. Before leaving on a Western campaign swing, the Massachusetts governor added that he would select a running mate ``in the not too distant future,'' but did nothing else to clarify the reigning mystery of the presidential campaign. Bush, whose own nomination is set for the Republican National Convention in New Orleans next month, flew to Dukakis' political base of Boston. There he met with Bay State Republicans and spoke to leaders of the Greek Orthodox Church, which counts Dukakis among its followers. The vice president got a warm reception from the Greek group, which had heard a day earlier from Dukakis. Bush said it was just as well they didn't appear together. ``Too much charisma can be dangerous to your health,'' he said to laughter. The vice president met with President Reagan before leaving Washington, and the two men directed their aides to work closely to maximize Bush's chances of victory in the fall. Presidential spokesman Marlin Fitzwater also disclosed that Reagan may campaign on Bush's behalf in California when he vacations there this summer. California, the nation's largest state with 47 electoral votes, is Reagan's home. But Bush has fared poorly there in polls, and his aides are eager to cut into Dukakis' presumed lead in the state. Reagan is expected to campaign two days a week for Bush beginning in the fall, and Bush said Thursday the two would probably make some joint appearances. ``The president feels he can be especially helpful with conservative Republicans, Democrats and other key groups which are not registered Republicans, but which have voted for the Reagan-Bush ticket in '80 and '84,'' said Fitzwater. Reagan will be at his California ranch during the Democratic convention, but Bush said he himself may campaign during the first two days of the convention, hoping to ``get a little bit of ink'' in the news media during Dukakis' big week. In addition to his trip to Massachusetts, Bush dispatched New Hampshire Gov. John Sununu to Washington for a news conference designed to tar Dukakis. Sununu said tens of thousands of ``refugees'' are fleeing Massachusetts and Dukakis' administration each year and moving to New Hampshire. ``If Michael Dukakis fulfills his promise to do for the rest of the nation what he did for Massachusetts, then we are in serious trouble,'' he said. Dukakis has seemed to lose the political momentum in recent weeks, and he sought to regain it with his charge that Bush had forsaken his pledge to oppose any type of tax increase. He said the vice president supports a provision in trade legislation that calls for $1 billion in taxes for job training programs and also supports recently signed catastrophic illness health-care legislation with $6 billion in new taxes. ``So much for iron-clad no-tax commitments,'' Dukakis said of the centerpiece of Bush's campaign. Bush, in Boston, replied by making reference to Dukakis' signing of a cigarette tax and his support for another tax measure. ``I'm against raising taxes, and I think recent events here in this state that I don't plan to go into demonstrate we have a different view on taxes,'' he said. The Bush campaign also quarreled with Dukakis' assertion about the trade legislation and the catastrophic illiness health-care legislation. ``He is dead wrong on both counts and he is trying to blow smoke into the room,'' said spokesman Mark Goodin. In his home state, Dukakis said he expected to conclude work by the middle of next week on legislation to wipe out a looming budget deficit for the 1988 fiscal year, and on a package of tax increases and spending cuts for next year. Dukakis has been criticized repeatedly by Bush for agreeing to a new cigarette tax and other measures as part of the budget plan, for a total of $250 million in additional taxes and fees. Dukakis also scoffed at Bush's pledge before a Hispanic group in Texas to name a Hispanic member to the Cabinet. ``It strikes me that this is a rather late commitment,'' said Dukakis, who made a similar pledge a year ago. ``I don't know where he has been for the last eight years.'' Later, in Dallas, Dukakis spoke before the same group Bush had addressed a day earlier, and again jabbed at Bush over the pledge to appoint a Hispanic member of the Cabinet. ``Some people think it's enough to wake up after eight years and then promise opportunity for one Hispanic. I want to stand with you and create opportunity for 20 million Hispanic citizens across the country,'' he said. Dukakis also resurrected the issue of Reagan's veto of plant-closing legislation, using it against Bush. ``The president opposes it, the vice president opposes it, I don't know why.'' He said workers deserved the 60-day notice the legislation would provide before a plant could be closed and said the issue represented ``the fundamental difference in what a Democratic administration would mean to this country.''\n",
      "\n",
      "Scored 10 of between 74 and 332 documents\n",
      "2\n",
      "Content : The case of a 23-year-old American photographer, tried Saturday on charges of drug smuggling, has hightlighted differences between the legal systems and national customs of Spain and the United States. Conan Owen, a 1986 graduate of Syracuse University, was charged with smuggling more than four pounds of cocaine from Chile to Spain in a false-bottomed suitcase. He received the suitcase from a travel agent near his home in Annandale, Va. Both prosecuting attorney Teresa Calvo, who asked for a 10-year jail sentence, and presiding Judge Jose Presencia Rubio expressed incredulity that a university graduate would accept a job from a passing acquaintance and agree to carry a suitcase halfway around the world for someone he hardly knew. In Spain, the custom is only to do business with people you know. During his year in Barcelona's 85-year-old Model Prison, Owen said he didn't understand why he had not been freed on bail pending trial. Bail was denied because Owen was a foreigner caught with a substantial amount of relatively pure cocaine. When U.S. law enforcement agents testified Saturday that Owen had provided them with information leading to a half dozen indictments of members of a suspected cocaine smuggling ring, the judge called it all ``very interesting'' but said he was only interested in Owen's case. Attorney General Edwin Meese III even delivered copies to Spanish judicial authorities of a statement made by George Barahona, the man who hired Owen, and who early last month received a two-year suspended sentence for narcotics violations from a federal court in Virginia. In the statement made in a plea bargain agreement, Barahona said Owen knew nothing about the drugs and had been used as a carrier. But plea bargaining does not exist in Spain. In her summary, Calvo implied that plea bargaining was a less-than-honorable institution. U.S. officials faced a similar problem several years ago when a Spanish court was considering U.S. and Spanish requests for extradition of Colombian cocaine baron Jorge Luis Ochoa Vasquez. The U.S. indictment of Ochoa, who was arrested in Madrid in November 1984, was based on extensive testimony obtained through a plea bargin. The Spanish court instead sent Ochoa back to Colombia in July 1986. He went free a week later.\n",
      "\n",
      "Scored 2 of between 6 and 6 documents\n"
     ]
    }
   ],
   "source": [
    "# Search for “Michael Dukakis”,\n",
    "qp = QueryParser(\"content\", schema=ix.schema)\n",
    "q = qp.parse(u\"Michael Dukakis\")\n",
    "search_and_print(q)\n",
    "\n",
    "# Search for “Dukakis OR Bush”\n",
    "qp = QueryParser(\"content\", schema=ix.schema)\n",
    "q = qp.parse(u\"Dukakis OR Bush\")\n",
    "search_and_print(q)\n",
    "\n",
    "# Search for “Dukakis OR Bush”\n",
    "qp = QueryParser(\"content\", schema=ix.schema)\n",
    "q = qp.parse(u\"graduate of Syracuse University\")\n",
    "search_and_print(q)"
   ]
  },
  {
   "cell_type": "markdown",
   "metadata": {},
   "source": [
    "# Difficulties \n",
    "## Reading the results\n",
    "- We noticed that the results could only be accessed when `searcher()` is open.\n",
    "- Also the results hits can be accessed only by the fields specified in the schema in this case `content`\n",
    "\n",
    "## Storing the content\n",
    "\n",
    "In order to see the content within the results the `stored` propetry within text must be set to true when crearing the schema.\n",
    "\n",
    "## Lock Error\n",
    "\n",
    "<b> ix.writer() </b> was raising lock error that was weird for us, but after refreshing the kernel it disappeared."
   ]
  },
  {
   "cell_type": "code",
   "execution_count": null,
   "metadata": {},
   "outputs": [],
   "source": []
  }
 ],
 "metadata": {
  "kernelspec": {
   "display_name": "Python 3",
   "language": "python",
   "name": "python3"
  },
  "language_info": {
   "codemirror_mode": {
    "name": "ipython",
    "version": 3
   },
   "file_extension": ".py",
   "mimetype": "text/x-python",
   "name": "python",
   "nbconvert_exporter": "python",
   "pygments_lexer": "ipython3",
   "version": "3.8.5"
  }
 },
 "nbformat": 4,
 "nbformat_minor": 4
}
