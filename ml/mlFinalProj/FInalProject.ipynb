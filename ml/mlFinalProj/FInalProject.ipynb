{
 "cells": [
  {
   "cell_type": "markdown",
   "metadata": {},
   "source": [
    "# Churn Risk Rate Ranking (Classification)\n",
    "#### by Pilosyan Karen"
   ]
  },
  {
   "cell_type": "markdown",
   "metadata": {},
   "source": [
    "Let's start by understanding the describtion of the task that will be reffered to in this project. There is a certain company website which has 36992 users, and the company wants to rank its users to 6 categories based on the riskiness of them leaving the company. We assign integer values for each risk level for each user: 0 - being the lowest risk, 5 - being the highest risk. So, if the user is very likely to stop using the company/website product and leave to another provider, we will assign that user higher score (i.e. 5). This score is reffered to as <i> churn_risk_score</i>. This task was offered by <i>kaggle</i>. Please see the link for more information: https://www.kaggle.com/imsparsh/churn-risk-rate-hackerearth-ml?select=train.csv. The name of the company or website is not provided. We are only provided with the dataset (train.csv) containing 36992 observations and 25 features. There is also a <i> test.csv</i> dataset provided, containing 19919 observations and 24 features (<i>churn_risk_score</i> excluded), but I will only work with the train dataset, because without the depended variable provided, I cannot check the goodness of my model anyways, and I will only fill in <i>churn_risk_score</i>, which is not interesting."
   ]
  },
  {
   "cell_type": "markdown",
   "metadata": {},
   "source": [
    "So the goal of this project is to create such a model that, based on some features (i.e. 'points in wallet', 'feedback'), will assign proper <i>churn_risk_scores</i> for each user. In order to do this, I will try different classification models, based on the train dataset, evaluate and interpret the results for each model, and finally, find out which one is the best model to choose. "
   ]
  },
  {
   "cell_type": "markdown",
   "metadata": {},
   "source": [
    "Also, note that people who provided this data, had no way of knowing the real churn score. They predicted it, the same way I will attempt to do. But the goal of this task is to learn."
   ]
  },
  {
   "cell_type": "markdown",
   "metadata": {},
   "source": [
    "Let's start with importing all the necessary modules."
   ]
  },
  {
   "cell_type": "code",
   "execution_count": 1,
   "metadata": {},
   "outputs": [],
   "source": [
    "import pandas as pd\n",
    "import numpy as np\n",
    "import seaborn as sns\n",
    "import matplotlib.pyplot as plt\n",
    "\n",
    "from sklearn.model_selection import train_test_split\n",
    "from sklearn import preprocessing\n",
    "from sklearn.feature_selection import SelectKBest, f_regression\n",
    "from sklearn import metrics \n",
    "from sklearn.linear_model import LogisticRegression\n",
    "from sklearn.metrics import confusion_matrix\n",
    "from sklearn.metrics import classification_report\n",
    "from sklearn.tree import DecisionTreeClassifier\n",
    "from sklearn.ensemble import RandomForestClassifier\n",
    "from sklearn.datasets import make_classification\n",
    "from sklearn.naive_bayes import GaussianNB"
   ]
  },
  {
   "cell_type": "code",
   "execution_count": 2,
   "metadata": {},
   "outputs": [],
   "source": [
    "df = pd.read_csv('train.csv') "
   ]
  },
  {
   "cell_type": "code",
   "execution_count": 3,
   "metadata": {},
   "outputs": [
    {
     "data": {
      "text/html": [
       "<div>\n",
       "<style scoped>\n",
       "    .dataframe tbody tr th:only-of-type {\n",
       "        vertical-align: middle;\n",
       "    }\n",
       "\n",
       "    .dataframe tbody tr th {\n",
       "        vertical-align: top;\n",
       "    }\n",
       "\n",
       "    .dataframe thead th {\n",
       "        text-align: right;\n",
       "    }\n",
       "</style>\n",
       "<table border=\"1\" class=\"dataframe\">\n",
       "  <thead>\n",
       "    <tr style=\"text-align: right;\">\n",
       "      <th></th>\n",
       "      <th>customer_id</th>\n",
       "      <th>Name</th>\n",
       "      <th>age</th>\n",
       "      <th>gender</th>\n",
       "      <th>security_no</th>\n",
       "      <th>region_category</th>\n",
       "      <th>membership_category</th>\n",
       "      <th>joining_date</th>\n",
       "      <th>joined_through_referral</th>\n",
       "      <th>referral_id</th>\n",
       "      <th>preferred_offer_types</th>\n",
       "      <th>medium_of_operation</th>\n",
       "      <th>internet_option</th>\n",
       "      <th>last_visit_time</th>\n",
       "      <th>days_since_last_login</th>\n",
       "      <th>avg_time_spent</th>\n",
       "      <th>avg_transaction_value</th>\n",
       "      <th>avg_frequency_login_days</th>\n",
       "      <th>points_in_wallet</th>\n",
       "      <th>used_special_discount</th>\n",
       "      <th>offer_application_preference</th>\n",
       "      <th>past_complaint</th>\n",
       "      <th>complaint_status</th>\n",
       "      <th>feedback</th>\n",
       "      <th>churn_risk_score</th>\n",
       "    </tr>\n",
       "  </thead>\n",
       "  <tbody>\n",
       "    <tr>\n",
       "      <th>0</th>\n",
       "      <td>fffe4300490044003600300030003800</td>\n",
       "      <td>Pattie Morrisey</td>\n",
       "      <td>18</td>\n",
       "      <td>F</td>\n",
       "      <td>XW0DQ7H</td>\n",
       "      <td>Village</td>\n",
       "      <td>Platinum Membership</td>\n",
       "      <td>2017-08-17</td>\n",
       "      <td>No</td>\n",
       "      <td>xxxxxxxx</td>\n",
       "      <td>Gift Vouchers/Coupons</td>\n",
       "      <td>?</td>\n",
       "      <td>Wi-Fi</td>\n",
       "      <td>16:08:02</td>\n",
       "      <td>17</td>\n",
       "      <td>300.63</td>\n",
       "      <td>53005.25</td>\n",
       "      <td>17.0</td>\n",
       "      <td>781.75</td>\n",
       "      <td>Yes</td>\n",
       "      <td>Yes</td>\n",
       "      <td>No</td>\n",
       "      <td>Not Applicable</td>\n",
       "      <td>Products always in Stock</td>\n",
       "      <td>2</td>\n",
       "    </tr>\n",
       "    <tr>\n",
       "      <th>1</th>\n",
       "      <td>fffe43004900440032003100300035003700</td>\n",
       "      <td>Traci Peery</td>\n",
       "      <td>32</td>\n",
       "      <td>F</td>\n",
       "      <td>5K0N3X1</td>\n",
       "      <td>City</td>\n",
       "      <td>Premium Membership</td>\n",
       "      <td>2017-08-28</td>\n",
       "      <td>?</td>\n",
       "      <td>CID21329</td>\n",
       "      <td>Gift Vouchers/Coupons</td>\n",
       "      <td>Desktop</td>\n",
       "      <td>Mobile_Data</td>\n",
       "      <td>12:38:13</td>\n",
       "      <td>16</td>\n",
       "      <td>306.34</td>\n",
       "      <td>12838.38</td>\n",
       "      <td>10.0</td>\n",
       "      <td>NaN</td>\n",
       "      <td>Yes</td>\n",
       "      <td>No</td>\n",
       "      <td>Yes</td>\n",
       "      <td>Solved</td>\n",
       "      <td>Quality Customer Care</td>\n",
       "      <td>1</td>\n",
       "    </tr>\n",
       "    <tr>\n",
       "      <th>2</th>\n",
       "      <td>fffe4300490044003100390032003600</td>\n",
       "      <td>Merideth Mcmeen</td>\n",
       "      <td>44</td>\n",
       "      <td>F</td>\n",
       "      <td>1F2TCL3</td>\n",
       "      <td>Town</td>\n",
       "      <td>No Membership</td>\n",
       "      <td>2016-11-11</td>\n",
       "      <td>Yes</td>\n",
       "      <td>CID12313</td>\n",
       "      <td>Gift Vouchers/Coupons</td>\n",
       "      <td>Desktop</td>\n",
       "      <td>Wi-Fi</td>\n",
       "      <td>22:53:21</td>\n",
       "      <td>14</td>\n",
       "      <td>516.16</td>\n",
       "      <td>21027.00</td>\n",
       "      <td>22.0</td>\n",
       "      <td>500.69</td>\n",
       "      <td>No</td>\n",
       "      <td>Yes</td>\n",
       "      <td>Yes</td>\n",
       "      <td>Solved in Follow-up</td>\n",
       "      <td>Poor Website</td>\n",
       "      <td>5</td>\n",
       "    </tr>\n",
       "    <tr>\n",
       "      <th>3</th>\n",
       "      <td>fffe43004900440036003000330031003600</td>\n",
       "      <td>Eufemia Cardwell</td>\n",
       "      <td>37</td>\n",
       "      <td>M</td>\n",
       "      <td>VJGJ33N</td>\n",
       "      <td>City</td>\n",
       "      <td>No Membership</td>\n",
       "      <td>2016-10-29</td>\n",
       "      <td>Yes</td>\n",
       "      <td>CID3793</td>\n",
       "      <td>Gift Vouchers/Coupons</td>\n",
       "      <td>Desktop</td>\n",
       "      <td>Mobile_Data</td>\n",
       "      <td>15:57:50</td>\n",
       "      <td>11</td>\n",
       "      <td>53.27</td>\n",
       "      <td>25239.56</td>\n",
       "      <td>6.0</td>\n",
       "      <td>567.66</td>\n",
       "      <td>No</td>\n",
       "      <td>Yes</td>\n",
       "      <td>Yes</td>\n",
       "      <td>Unsolved</td>\n",
       "      <td>Poor Website</td>\n",
       "      <td>5</td>\n",
       "    </tr>\n",
       "    <tr>\n",
       "      <th>4</th>\n",
       "      <td>fffe43004900440031003900350030003600</td>\n",
       "      <td>Meghan Kosak</td>\n",
       "      <td>31</td>\n",
       "      <td>F</td>\n",
       "      <td>SVZXCWB</td>\n",
       "      <td>City</td>\n",
       "      <td>No Membership</td>\n",
       "      <td>2017-09-12</td>\n",
       "      <td>No</td>\n",
       "      <td>xxxxxxxx</td>\n",
       "      <td>Credit/Debit Card Offers</td>\n",
       "      <td>Smartphone</td>\n",
       "      <td>Mobile_Data</td>\n",
       "      <td>15:46:44</td>\n",
       "      <td>20</td>\n",
       "      <td>113.13</td>\n",
       "      <td>24483.66</td>\n",
       "      <td>16.0</td>\n",
       "      <td>663.06</td>\n",
       "      <td>No</td>\n",
       "      <td>Yes</td>\n",
       "      <td>Yes</td>\n",
       "      <td>Solved</td>\n",
       "      <td>Poor Website</td>\n",
       "      <td>5</td>\n",
       "    </tr>\n",
       "  </tbody>\n",
       "</table>\n",
       "</div>"
      ],
      "text/plain": [
       "                            customer_id              Name  age gender  \\\n",
       "0      fffe4300490044003600300030003800   Pattie Morrisey   18      F   \n",
       "1  fffe43004900440032003100300035003700       Traci Peery   32      F   \n",
       "2      fffe4300490044003100390032003600   Merideth Mcmeen   44      F   \n",
       "3  fffe43004900440036003000330031003600  Eufemia Cardwell   37      M   \n",
       "4  fffe43004900440031003900350030003600      Meghan Kosak   31      F   \n",
       "\n",
       "  security_no region_category  membership_category joining_date  \\\n",
       "0     XW0DQ7H         Village  Platinum Membership   2017-08-17   \n",
       "1     5K0N3X1            City   Premium Membership   2017-08-28   \n",
       "2     1F2TCL3            Town        No Membership   2016-11-11   \n",
       "3     VJGJ33N            City        No Membership   2016-10-29   \n",
       "4     SVZXCWB            City        No Membership   2017-09-12   \n",
       "\n",
       "  joined_through_referral referral_id     preferred_offer_types  \\\n",
       "0                      No    xxxxxxxx     Gift Vouchers/Coupons   \n",
       "1                       ?    CID21329     Gift Vouchers/Coupons   \n",
       "2                     Yes    CID12313     Gift Vouchers/Coupons   \n",
       "3                     Yes     CID3793     Gift Vouchers/Coupons   \n",
       "4                      No    xxxxxxxx  Credit/Debit Card Offers   \n",
       "\n",
       "  medium_of_operation internet_option last_visit_time  days_since_last_login  \\\n",
       "0                   ?           Wi-Fi        16:08:02                     17   \n",
       "1             Desktop     Mobile_Data        12:38:13                     16   \n",
       "2             Desktop           Wi-Fi        22:53:21                     14   \n",
       "3             Desktop     Mobile_Data        15:57:50                     11   \n",
       "4          Smartphone     Mobile_Data        15:46:44                     20   \n",
       "\n",
       "   avg_time_spent  avg_transaction_value avg_frequency_login_days  \\\n",
       "0          300.63               53005.25                     17.0   \n",
       "1          306.34               12838.38                     10.0   \n",
       "2          516.16               21027.00                     22.0   \n",
       "3           53.27               25239.56                      6.0   \n",
       "4          113.13               24483.66                     16.0   \n",
       "\n",
       "   points_in_wallet used_special_discount offer_application_preference  \\\n",
       "0            781.75                   Yes                          Yes   \n",
       "1               NaN                   Yes                           No   \n",
       "2            500.69                    No                          Yes   \n",
       "3            567.66                    No                          Yes   \n",
       "4            663.06                    No                          Yes   \n",
       "\n",
       "  past_complaint     complaint_status                  feedback  \\\n",
       "0             No       Not Applicable  Products always in Stock   \n",
       "1            Yes               Solved     Quality Customer Care   \n",
       "2            Yes  Solved in Follow-up              Poor Website   \n",
       "3            Yes             Unsolved              Poor Website   \n",
       "4            Yes               Solved              Poor Website   \n",
       "\n",
       "   churn_risk_score  \n",
       "0                 2  \n",
       "1                 1  \n",
       "2                 5  \n",
       "3                 5  \n",
       "4                 5  "
      ]
     },
     "execution_count": 3,
     "metadata": {},
     "output_type": "execute_result"
    }
   ],
   "source": [
    "pd.set_option('display.max_columns', df.shape[0]+1)  # to see all the features \n",
    "df.head()"
   ]
  },
  {
   "cell_type": "code",
   "execution_count": 4,
   "metadata": {},
   "outputs": [
    {
     "data": {
      "text/plain": [
       "(36992, 25)"
      ]
     },
     "execution_count": 4,
     "metadata": {},
     "output_type": "execute_result"
    }
   ],
   "source": [
    "df.shape"
   ]
  },
  {
   "cell_type": "code",
   "execution_count": 5,
   "metadata": {},
   "outputs": [
    {
     "data": {
      "text/plain": [
       "customer_id                        0\n",
       "Name                               0\n",
       "age                                0\n",
       "gender                             0\n",
       "security_no                        0\n",
       "region_category                 5428\n",
       "membership_category                0\n",
       "joining_date                       0\n",
       "joined_through_referral            0\n",
       "referral_id                        0\n",
       "preferred_offer_types            288\n",
       "medium_of_operation                0\n",
       "internet_option                    0\n",
       "last_visit_time                    0\n",
       "days_since_last_login              0\n",
       "avg_time_spent                     0\n",
       "avg_transaction_value              0\n",
       "avg_frequency_login_days           0\n",
       "points_in_wallet                3443\n",
       "used_special_discount              0\n",
       "offer_application_preference       0\n",
       "past_complaint                     0\n",
       "complaint_status                   0\n",
       "feedback                           0\n",
       "churn_risk_score                   0\n",
       "dtype: int64"
      ]
     },
     "execution_count": 5,
     "metadata": {},
     "output_type": "execute_result"
    }
   ],
   "source": [
    "df.isna().sum()  # amount of null values for each feature"
   ]
  },
  {
   "cell_type": "markdown",
   "metadata": {},
   "source": [
    "## Dropping unnecessary columns"
   ]
  },
  {
   "cell_type": "markdown",
   "metadata": {},
   "source": [
    "Let's drop some of the unnecessary columns which logically, are not connected with churn score."
   ]
  },
  {
   "cell_type": "code",
   "execution_count": 6,
   "metadata": {},
   "outputs": [],
   "source": [
    "df = df.drop(['customer_id', 'Name', 'security_no', 'referral_id'], axis=1)"
   ]
  },
  {
   "cell_type": "code",
   "execution_count": 7,
   "metadata": {},
   "outputs": [
    {
     "data": {
      "text/plain": [
       "Not Applicable    18602\n",
       "Name: complaint_status, dtype: int64"
      ]
     },
     "execution_count": 7,
     "metadata": {},
     "output_type": "execute_result"
    }
   ],
   "source": [
    "a = df[df['past_complaint']=='No']\n",
    "a['complaint_status'].value_counts()"
   ]
  },
  {
   "cell_type": "markdown",
   "metadata": {},
   "source": [
    "The column <i>past_complaint</i> contains 'Yes' and 'No' answers. If the value is 'Yes', the column <i>complaint_status</i> describes to what extend the complaint was dealt with. If the value is 'No', the column <i>complaint_status</i> contains the value 'Not Applicable' for that observation. So only from <i>complaint_status</i> we can understand if there was a 'past_complaint' or not. So, we can drop 'past_complaint'."
   ]
  },
  {
   "cell_type": "code",
   "execution_count": 8,
   "metadata": {},
   "outputs": [],
   "source": [
    "df = df.drop('past_complaint', axis=1)"
   ]
  },
  {
   "cell_type": "markdown",
   "metadata": {},
   "source": [
    "Let's look at all the features, what values they contain and frequencies for each value."
   ]
  },
  {
   "cell_type": "code",
   "execution_count": 9,
   "metadata": {},
   "outputs": [
    {
     "name": "stdout",
     "output_type": "stream",
     "text": [
      "age\n",
      "33    720\n",
      "16    716\n",
      "42    716\n",
      "38    714\n",
      "30    711\n",
      "61    709\n",
      "57    704\n",
      "60    704\n",
      "41    699\n",
      "59    696\n",
      "55    695\n",
      "28    694\n",
      "34    692\n",
      "47    691\n",
      "21    689\n",
      "32    685\n",
      "17    683\n",
      "56    682\n",
      "29    681\n",
      "45    680\n",
      "48    680\n",
      "46    679\n",
      "58    678\n",
      "22    677\n",
      "62    677\n",
      "53    675\n",
      "26    675\n",
      "52    672\n",
      "64    672\n",
      "14    670\n",
      "10    670\n",
      "49    669\n",
      "23    669\n",
      "36    668\n",
      "44    661\n",
      "12    661\n",
      "19    660\n",
      "51    660\n",
      "27    659\n",
      "43    657\n",
      "35    656\n",
      "63    656\n",
      "50    656\n",
      "11    654\n",
      "13    654\n",
      "37    653\n",
      "15    649\n",
      "24    645\n",
      "39    642\n",
      "20    641\n",
      "31    636\n",
      "25    635\n",
      "18    629\n",
      "40    628\n",
      "54    608\n",
      "Name: age, dtype: int64\n",
      "--------------------------\n",
      "gender\n",
      "F          18490\n",
      "M          18443\n",
      "Unknown       59\n",
      "Name: gender, dtype: int64\n",
      "--------------------------\n",
      "region_category\n",
      "Town       14128\n",
      "City       12737\n",
      "Village     4699\n",
      "Name: region_category, dtype: int64\n",
      "--------------------------\n",
      "membership_category\n",
      "Basic Membership       7724\n",
      "No Membership          7692\n",
      "Gold Membership        6795\n",
      "Silver Membership      5988\n",
      "Premium Membership     4455\n",
      "Platinum Membership    4338\n",
      "Name: membership_category, dtype: int64\n",
      "--------------------------\n",
      "joining_date\n",
      "2015-06-02    55\n",
      "2015-07-04    51\n",
      "2015-06-21    50\n",
      "2015-06-26    49\n",
      "2016-08-03    49\n",
      "              ..\n",
      "2015-06-07    19\n",
      "2016-06-03    18\n",
      "2017-07-03    18\n",
      "2015-09-12    18\n",
      "2015-03-04    16\n",
      "Name: joining_date, Length: 1096, dtype: int64\n",
      "--------------------------\n",
      "joined_through_referral\n",
      "No     15839\n",
      "Yes    15715\n",
      "?       5438\n",
      "Name: joined_through_referral, dtype: int64\n",
      "--------------------------\n",
      "preferred_offer_types\n",
      "Gift Vouchers/Coupons       12349\n",
      "Credit/Debit Card Offers    12274\n",
      "Without Offers              12081\n",
      "Name: preferred_offer_types, dtype: int64\n",
      "--------------------------\n",
      "medium_of_operation\n",
      "Desktop       13913\n",
      "Smartphone    13876\n",
      "?              5393\n",
      "Both           3810\n",
      "Name: medium_of_operation, dtype: int64\n",
      "--------------------------\n",
      "internet_option\n",
      "Wi-Fi          12413\n",
      "Mobile_Data    12343\n",
      "Fiber_Optic    12236\n",
      "Name: internet_option, dtype: int64\n",
      "--------------------------\n",
      "last_visit_time\n",
      "07:56:41    6\n",
      "02:50:54    5\n",
      "21:12:56    5\n",
      "12:30:02    5\n",
      "17:11:53    5\n",
      "           ..\n",
      "16:39:16    1\n",
      "19:53:46    1\n",
      "15:40:16    1\n",
      "09:03:52    1\n",
      "07:38:31    1\n",
      "Name: last_visit_time, Length: 30101, dtype: int64\n",
      "--------------------------\n",
      "days_since_last_login\n",
      " 12     2380\n",
      " 13     2373\n",
      " 14     2307\n",
      " 15     2278\n",
      " 11     2262\n",
      " 10     2091\n",
      " 16     2068\n",
      "-999    1999\n",
      " 9      1863\n",
      " 17     1747\n",
      " 8      1571\n",
      " 18     1444\n",
      " 7      1442\n",
      " 19     1308\n",
      " 6      1257\n",
      " 5      1234\n",
      " 20     1184\n",
      " 21     1015\n",
      " 4       998\n",
      " 22      895\n",
      " 3       852\n",
      " 23      727\n",
      " 2       613\n",
      " 24      471\n",
      " 1       328\n",
      " 25      203\n",
      " 26       82\n",
      "Name: days_since_last_login, dtype: int64\n",
      "--------------------------\n",
      "avg_time_spent\n",
      "34.100000      21\n",
      "34.710000      20\n",
      "33.680000      20\n",
      "34.330000      19\n",
      "32.910000      18\n",
      "               ..\n",
      "326.410000      1\n",
      "313.140000      1\n",
      "1180.146004     1\n",
      "2722.077794     1\n",
      "335.240000      1\n",
      "Name: avg_time_spent, Length: 25961, dtype: int64\n",
      "--------------------------\n",
      "avg_transaction_value\n",
      "19514.51    2\n",
      "23702.75    2\n",
      "2867.47     2\n",
      "40613.31    2\n",
      "10616.35    2\n",
      "           ..\n",
      "5722.24     1\n",
      "42072.25    1\n",
      "1049.44     1\n",
      "34634.31    1\n",
      "18993.73    1\n",
      "Name: avg_transaction_value, Length: 36894, dtype: int64\n",
      "--------------------------\n",
      "avg_frequency_login_days\n",
      "Error                  3522\n",
      "13.0                   1394\n",
      "19.0                   1365\n",
      "8.0                    1361\n",
      "14.0                   1355\n",
      "                       ... \n",
      "46.38772405096287         1\n",
      "-11.851562506279897       1\n",
      "17.655816025070166        1\n",
      "3.3350777346275606        1\n",
      "40.645494602089386        1\n",
      "Name: avg_frequency_login_days, Length: 1654, dtype: int64\n",
      "--------------------------\n",
      "points_in_wallet\n",
      "705.070000     9\n",
      "780.920000     8\n",
      "760.540000     7\n",
      "710.690000     7\n",
      "771.750000     7\n",
      "              ..\n",
      "653.950000     1\n",
      "608.220000     1\n",
      "1052.768197    1\n",
      "1082.767667    1\n",
      "832.000000     1\n",
      "Name: points_in_wallet, Length: 23699, dtype: int64\n",
      "--------------------------\n",
      "used_special_discount\n",
      "Yes    20342\n",
      "No     16650\n",
      "Name: used_special_discount, dtype: int64\n",
      "--------------------------\n",
      "offer_application_preference\n",
      "Yes    20440\n",
      "No     16552\n",
      "Name: offer_application_preference, dtype: int64\n",
      "--------------------------\n",
      "complaint_status\n",
      "Not Applicable              18602\n",
      "Unsolved                     4644\n",
      "Solved                       4619\n",
      "Solved in Follow-up          4577\n",
      "No Information Available     4550\n",
      "Name: complaint_status, dtype: int64\n",
      "--------------------------\n",
      "feedback\n",
      "Poor Product Quality        6350\n",
      "No reason specified         6290\n",
      "Too many ads                6279\n",
      "Poor Website                6271\n",
      "Poor Customer Service       6252\n",
      "Reasonable Price            1417\n",
      "User Friendly Website       1391\n",
      "Products always in Stock    1382\n",
      "Quality Customer Care       1360\n",
      "Name: feedback, dtype: int64\n",
      "--------------------------\n",
      "churn_risk_score\n",
      " 3    10424\n",
      " 4    10185\n",
      " 5     9827\n",
      " 2     2741\n",
      " 1     2652\n",
      "-1     1163\n",
      "Name: churn_risk_score, dtype: int64\n",
      "--------------------------\n"
     ]
    }
   ],
   "source": [
    "for i in df.columns:\n",
    "    print(i)\n",
    "    print(df[i].value_counts())\n",
    "    print(\"--------------------------\")"
   ]
  },
  {
   "cell_type": "markdown",
   "metadata": {},
   "source": [
    "## Churn Risk Score"
   ]
  },
  {
   "cell_type": "markdown",
   "metadata": {},
   "source": [
    "The column 'churn_risk_score' contains the value '-1', 1163 times, which I understand as NaN. So, one thing I can do, is to fill in these values according to the frequencies of the others or fill in with the overall mean value (3). But I believe we can afford losing those 1163 values, and keep the accurate scores insead of having guessed values. So let me drop those. "
   ]
  },
  {
   "cell_type": "code",
   "execution_count": 10,
   "metadata": {},
   "outputs": [],
   "source": [
    "df = df.drop(df[df['churn_risk_score'] == -1].index)  # finding indeces of those rows for which churn is -1.\n",
    "                                                      # Drop those indeces"
   ]
  },
  {
   "cell_type": "code",
   "execution_count": 11,
   "metadata": {},
   "outputs": [
    {
     "data": {
      "image/png": "[encoded data removed]",
      "text/plain": [
       "<Figure size 432x288 with 1 Axes>"
      ]
     },
     "metadata": {
      "needs_background": "light"
     },
     "output_type": "display_data"
    }
   ],
   "source": [
    "ax = sns.histplot(data=df, x=\"churn_risk_score\")\n",
    "ax.set_title('Churn Risk Score Distribution');"
   ]
  },
  {
   "cell_type": "markdown",
   "metadata": {},
   "source": [
    "Well, this already is not looking good, because we see the data is imbalanced towards values 3, 4, 5. The imbalanced data causes the model to give less attention to it, so during test data, the values 1 and 2 will easily be confused with other values, because model didn't train well on these 2 cases. So we need to note that in this case evaluating a model with simpler metrics like <i>accuracy score</i> can be misleading. The classifier will predict the most common classes without performing any analysis of the features and it will have a high accuracy rate, obviously not the correct one.  "
   ]
  },
  {
   "cell_type": "markdown",
   "metadata": {},
   "source": [
    "There are techniques to deal with imbalanced data, such as <i>Resampling Technique</i> or <i>Synthetic Minority Oversampling Technique (SMOTE)</i>. The idea of the first one, for example, is either to remove random samples from the more frequent classes, or adding more observations to the less frequent classes. SMOTE works by randomly picking a point from the minority class and computing the k-nearest neighbors for this point. The synthetic points are added between the chosen point and its neighbors. However these techniques, of course, have their disadvantages of creating false observations that can hurt the model. So since in our case, the imbalance is not thaat much (in my opinion), I will proceed by leaving it however it is."
   ]
  },
  {
   "cell_type": "markdown",
   "metadata": {},
   "source": [
    "## Dealing with Not Available Values"
   ]
  },
  {
   "cell_type": "markdown",
   "metadata": {},
   "source": [
    "In the dataset there are a lot of NA values that are not <i>null</i>, but are represented like 'Unknown', '?', '-999', etc. Let's turn them into numpy <i>NaN</i> values, to deal with them as such later on."
   ]
  },
  {
   "cell_type": "code",
   "execution_count": 12,
   "metadata": {},
   "outputs": [],
   "source": [
    "df = df.replace('Unknown', np.nan)\n",
    "df = df.replace('?', np.nan)\n",
    "df = df.replace('Error', np.nan)\n",
    "df = df.replace(-999, np.nan)\n",
    "df = df.replace('No Information Available', np.nan)\n",
    "\n",
    "# avg_time_spent has negative values, which makes no sense, so let's make them NaN as well\n",
    "\n",
    "df['avg_time_spent'] = df['avg_time_spent'].replace(df['avg_time_spent'][df['avg_time_spent'] <= 0].values, np.nan)"
   ]
  },
  {
   "cell_type": "markdown",
   "metadata": {},
   "source": [
    "I want to turn the feature 'joining_date' into a numerical value. The earlier that date observation (closer to today), the smaller its numerical value will be. By the way, when we turn categorical features into random numbers, most models think that one label is <i>bigger</i> than the other: for example if we assign <i>cat = 1, dog = 2</i>, the computer thinks dog > cat. But in case of ordinal labeling, the order makes sense: for example, <i>bad = 0, good = 1, very good = 2</i>. So ordinal labeling for time data makes sense to me.   "
   ]
  },
  {
   "cell_type": "code",
   "execution_count": 13,
   "metadata": {},
   "outputs": [],
   "source": [
    "df['joining_date'] = df['joining_date'].astype('datetime64[ns]')  # turning from object type to date type\n",
    "df['joining_date'] = pd.to_numeric(df['joining_date'])            # turning from date type to numeric type"
   ]
  },
  {
   "cell_type": "markdown",
   "metadata": {},
   "source": [
    "Now I want to differentiate numeric types from object types. I will turn numeric types to 'float64'."
   ]
  },
  {
   "cell_type": "code",
   "execution_count": 14,
   "metadata": {},
   "outputs": [],
   "source": [
    "# If feature types can be changed to float, turn. If not, pass\n",
    "\n",
    "for i in df.columns:\n",
    "    try:\n",
    "        df[i] = df[i].astype('float64')\n",
    "    except:\n",
    "        pass"
   ]
  },
  {
   "cell_type": "markdown",
   "metadata": {},
   "source": [
    "For the object type features, I can't fill in the NaN values with mean values, so I will fill them in according to the frequencies of the other values. For example, in the 'feedback' column, if the value 'Poor Product Quality' comes across more often than the value 'Products always in Stock', 'Poor Product Quality' will have more impact on NaN values than 'Products always in Stock'."
   ]
  },
  {
   "cell_type": "code",
   "execution_count": 15,
   "metadata": {},
   "outputs": [],
   "source": [
    "for i in df.columns:\n",
    "    if df[i].isna().sum() > 0 and df[i].dtype != 'float64': # if feature is not numeric and has NaN values \n",
    "        s = df[i].value_counts(normalize=True) # fill based on frequencies of others\n",
    "        df.loc[df[i].isna(), i] = np.random.choice(s.index, p=s.values, size=df[i].isna().sum())"
   ]
  },
  {
   "cell_type": "markdown",
   "metadata": {},
   "source": [
    "For the numeric features, simply fill in with mean values."
   ]
  },
  {
   "cell_type": "code",
   "execution_count": 16,
   "metadata": {},
   "outputs": [],
   "source": [
    "for i in df.columns:\n",
    "    if df[i].isna().sum() > 0 and df[i].dtype == 'float64':\n",
    "        df[i] = df[i].fillna(df[i].mean())"
   ]
  },
  {
   "cell_type": "code",
   "execution_count": 17,
   "metadata": {},
   "outputs": [],
   "source": [
    "# check for NA values. Should be no output\n",
    "\n",
    "for i in range(len(df.isna().sum())):\n",
    "    if df.isna().sum()[i] > 0:\n",
    "        print('NA values')"
   ]
  },
  {
   "cell_type": "markdown",
   "metadata": {},
   "source": [
    "## Encoding"
   ]
  },
  {
   "cell_type": "markdown",
   "metadata": {},
   "source": [
    "#### Ordinal Encoding"
   ]
  },
  {
   "cell_type": "code",
   "execution_count": 18,
   "metadata": {},
   "outputs": [],
   "source": [
    "ordinal_features = ['region_category', 'membership_category', 'preferred_offer_types', 'complaint_status', \n",
    "                    'feedback']"
   ]
  },
  {
   "cell_type": "code",
   "execution_count": 19,
   "metadata": {},
   "outputs": [],
   "source": [
    "# logically assigning chronological orders to the labels\n",
    "\n",
    "reg_labels = {\"Town\":1, \"City\":2, \"Village\":0}\n",
    "\n",
    "fdbk = {\"Poor Product Quality\":0, \"Too many ads\":0, \"Poor Website\":0, \"Poor Customer Service\":0,\n",
    "           \"No reason specified\":1, \"Reasonable Price\":2, \"User Friendly Website\":2, \"Products always in Stock\":2,\n",
    "           \"Quality Customer Care\":2}\n",
    "\n",
    "memberships = {\"No Membership\":0, \"Basic Membership\":1, \"Premium Membership\":5, \"Silver Membership\":2,\n",
    "           \"Gold Membership\":3, \"Platinum Membership\":4}\n",
    "\n",
    "complaints = {\"Unsolved\":0, \"Solved in Follow-up\":1, \"Solved\":1, \"Not Applicable\":2}\n",
    "\n",
    "types = [reg_labels, fdbk, memberships, complaints]"
   ]
  },
  {
   "cell_type": "code",
   "execution_count": 20,
   "metadata": {},
   "outputs": [],
   "source": [
    "# if the unique feature values are the same as one of the types above, map the feature values accordingly\n",
    "\n",
    "for i in ordinal_features:\n",
    "    for j in types:\n",
    "        if set(j.keys()) == set(df[i].unique()):\n",
    "            df[i] = df[i].map(j)    "
   ]
  },
  {
   "cell_type": "markdown",
   "metadata": {},
   "source": [
    "#### Label Encoding"
   ]
  },
  {
   "cell_type": "code",
   "execution_count": 21,
   "metadata": {},
   "outputs": [],
   "source": [
    "# label encoding for the rest of the features \n",
    "\n",
    "for i in df.columns:\n",
    "    if df[i].dtype == \"O\":\n",
    "            df[i] = df[i].astype('category')  # cat.codes work with type 'category' only\n",
    "            df[i] = df[i].cat.codes"
   ]
  },
  {
   "cell_type": "code",
   "execution_count": 22,
   "metadata": {},
   "outputs": [
    {
     "data": {
      "text/html": [
       "<div>\n",
       "<style scoped>\n",
       "    .dataframe tbody tr th:only-of-type {\n",
       "        vertical-align: middle;\n",
       "    }\n",
       "\n",
       "    .dataframe tbody tr th {\n",
       "        vertical-align: top;\n",
       "    }\n",
       "\n",
       "    .dataframe thead th {\n",
       "        text-align: right;\n",
       "    }\n",
       "</style>\n",
       "<table border=\"1\" class=\"dataframe\">\n",
       "  <thead>\n",
       "    <tr style=\"text-align: right;\">\n",
       "      <th></th>\n",
       "      <th>age</th>\n",
       "      <th>gender</th>\n",
       "      <th>region_category</th>\n",
       "      <th>membership_category</th>\n",
       "      <th>joining_date</th>\n",
       "      <th>joined_through_referral</th>\n",
       "      <th>preferred_offer_types</th>\n",
       "      <th>medium_of_operation</th>\n",
       "      <th>internet_option</th>\n",
       "      <th>last_visit_time</th>\n",
       "      <th>days_since_last_login</th>\n",
       "      <th>avg_time_spent</th>\n",
       "      <th>avg_transaction_value</th>\n",
       "      <th>avg_frequency_login_days</th>\n",
       "      <th>points_in_wallet</th>\n",
       "      <th>used_special_discount</th>\n",
       "      <th>offer_application_preference</th>\n",
       "      <th>complaint_status</th>\n",
       "      <th>feedback</th>\n",
       "      <th>churn_risk_score</th>\n",
       "    </tr>\n",
       "  </thead>\n",
       "  <tbody>\n",
       "    <tr>\n",
       "      <th>0</th>\n",
       "      <td>18.0</td>\n",
       "      <td>0</td>\n",
       "      <td>0</td>\n",
       "      <td>4</td>\n",
       "      <td>1.502928e+18</td>\n",
       "      <td>0</td>\n",
       "      <td>1</td>\n",
       "      <td>2</td>\n",
       "      <td>2</td>\n",
       "      <td>19686</td>\n",
       "      <td>17.0</td>\n",
       "      <td>300.63</td>\n",
       "      <td>53005.25</td>\n",
       "      <td>17.0</td>\n",
       "      <td>781.750000</td>\n",
       "      <td>1</td>\n",
       "      <td>1</td>\n",
       "      <td>2</td>\n",
       "      <td>2</td>\n",
       "      <td>2.0</td>\n",
       "    </tr>\n",
       "    <tr>\n",
       "      <th>1</th>\n",
       "      <td>32.0</td>\n",
       "      <td>0</td>\n",
       "      <td>2</td>\n",
       "      <td>5</td>\n",
       "      <td>1.503878e+18</td>\n",
       "      <td>1</td>\n",
       "      <td>1</td>\n",
       "      <td>1</td>\n",
       "      <td>1</td>\n",
       "      <td>15407</td>\n",
       "      <td>16.0</td>\n",
       "      <td>306.34</td>\n",
       "      <td>12838.38</td>\n",
       "      <td>10.0</td>\n",
       "      <td>686.849231</td>\n",
       "      <td>1</td>\n",
       "      <td>0</td>\n",
       "      <td>1</td>\n",
       "      <td>2</td>\n",
       "      <td>1.0</td>\n",
       "    </tr>\n",
       "    <tr>\n",
       "      <th>2</th>\n",
       "      <td>44.0</td>\n",
       "      <td>0</td>\n",
       "      <td>1</td>\n",
       "      <td>0</td>\n",
       "      <td>1.478822e+18</td>\n",
       "      <td>1</td>\n",
       "      <td>1</td>\n",
       "      <td>1</td>\n",
       "      <td>2</td>\n",
       "      <td>27964</td>\n",
       "      <td>14.0</td>\n",
       "      <td>516.16</td>\n",
       "      <td>21027.00</td>\n",
       "      <td>22.0</td>\n",
       "      <td>500.690000</td>\n",
       "      <td>0</td>\n",
       "      <td>1</td>\n",
       "      <td>1</td>\n",
       "      <td>0</td>\n",
       "      <td>5.0</td>\n",
       "    </tr>\n",
       "    <tr>\n",
       "      <th>3</th>\n",
       "      <td>37.0</td>\n",
       "      <td>1</td>\n",
       "      <td>2</td>\n",
       "      <td>0</td>\n",
       "      <td>1.477699e+18</td>\n",
       "      <td>1</td>\n",
       "      <td>1</td>\n",
       "      <td>1</td>\n",
       "      <td>1</td>\n",
       "      <td>19480</td>\n",
       "      <td>11.0</td>\n",
       "      <td>53.27</td>\n",
       "      <td>25239.56</td>\n",
       "      <td>6.0</td>\n",
       "      <td>567.660000</td>\n",
       "      <td>0</td>\n",
       "      <td>1</td>\n",
       "      <td>0</td>\n",
       "      <td>0</td>\n",
       "      <td>5.0</td>\n",
       "    </tr>\n",
       "    <tr>\n",
       "      <th>4</th>\n",
       "      <td>31.0</td>\n",
       "      <td>0</td>\n",
       "      <td>2</td>\n",
       "      <td>0</td>\n",
       "      <td>1.505174e+18</td>\n",
       "      <td>0</td>\n",
       "      <td>0</td>\n",
       "      <td>2</td>\n",
       "      <td>1</td>\n",
       "      <td>19267</td>\n",
       "      <td>20.0</td>\n",
       "      <td>113.13</td>\n",
       "      <td>24483.66</td>\n",
       "      <td>16.0</td>\n",
       "      <td>663.060000</td>\n",
       "      <td>0</td>\n",
       "      <td>1</td>\n",
       "      <td>1</td>\n",
       "      <td>0</td>\n",
       "      <td>5.0</td>\n",
       "    </tr>\n",
       "  </tbody>\n",
       "</table>\n",
       "</div>"
      ],
      "text/plain": [
       "    age  gender  region_category  membership_category  joining_date  \\\n",
       "0  18.0       0                0                    4  1.502928e+18   \n",
       "1  32.0       0                2                    5  1.503878e+18   \n",
       "2  44.0       0                1                    0  1.478822e+18   \n",
       "3  37.0       1                2                    0  1.477699e+18   \n",
       "4  31.0       0                2                    0  1.505174e+18   \n",
       "\n",
       "   joined_through_referral  preferred_offer_types  medium_of_operation  \\\n",
       "0                        0                      1                    2   \n",
       "1                        1                      1                    1   \n",
       "2                        1                      1                    1   \n",
       "3                        1                      1                    1   \n",
       "4                        0                      0                    2   \n",
       "\n",
       "   internet_option  last_visit_time  days_since_last_login  avg_time_spent  \\\n",
       "0                2            19686                   17.0          300.63   \n",
       "1                1            15407                   16.0          306.34   \n",
       "2                2            27964                   14.0          516.16   \n",
       "3                1            19480                   11.0           53.27   \n",
       "4                1            19267                   20.0          113.13   \n",
       "\n",
       "   avg_transaction_value  avg_frequency_login_days  points_in_wallet  \\\n",
       "0               53005.25                      17.0        781.750000   \n",
       "1               12838.38                      10.0        686.849231   \n",
       "2               21027.00                      22.0        500.690000   \n",
       "3               25239.56                       6.0        567.660000   \n",
       "4               24483.66                      16.0        663.060000   \n",
       "\n",
       "   used_special_discount  offer_application_preference  complaint_status  \\\n",
       "0                      1                             1                 2   \n",
       "1                      1                             0                 1   \n",
       "2                      0                             1                 1   \n",
       "3                      0                             1                 0   \n",
       "4                      0                             1                 1   \n",
       "\n",
       "   feedback  churn_risk_score  \n",
       "0         2               2.0  \n",
       "1         2               1.0  \n",
       "2         0               5.0  \n",
       "3         0               5.0  \n",
       "4         0               5.0  "
      ]
     },
     "execution_count": 22,
     "metadata": {},
     "output_type": "execute_result"
    }
   ],
   "source": [
    "df.head()"
   ]
  },
  {
   "cell_type": "markdown",
   "metadata": {},
   "source": [
    "## Correlation Matrix (HeatMap)"
   ]
  },
  {
   "cell_type": "code",
   "execution_count": 23,
   "metadata": {},
   "outputs": [
    {
     "data": {
      "image/png": "[encoded data removed]",
      "text/plain": [
       "<Figure size 1440x1080 with 2 Axes>"
      ]
     },
     "metadata": {
      "needs_background": "light"
     },
     "output_type": "display_data"
    }
   ],
   "source": [
    "corrMatrix = df.corr()\n",
    "plt.subplots(figsize=(20,15))\n",
    "sns.heatmap(corrMatrix, annot=True)\n",
    "plt.show()"
   ]
  },
  {
   "cell_type": "markdown",
   "metadata": {},
   "source": [
    "As we see, there is a potential multicollinearity issue between features \"used_special_discount\" and \"offer_application_preference\": -0.81. So one of them needs to be eliminated. But both have very small correlations with \"churn_risk_score\", so I will end up not using any of them anyways. "
   ]
  },
  {
   "cell_type": "markdown",
   "metadata": {},
   "source": [
    "## Feature Selection"
   ]
  },
  {
   "cell_type": "markdown",
   "metadata": {},
   "source": [
    "From the correlation matrix heatmap above, we can already see which features are more correlated with our dependent variable. But in order to recheck, let's use the class SelectKBest from library sklearn."
   ]
  },
  {
   "cell_type": "code",
   "execution_count": 24,
   "metadata": {},
   "outputs": [],
   "source": [
    "y = df.loc[:,'churn_risk_score']  # dependent variable\n",
    "X = df.loc[:,'age':'feedback']    # (initial) independent variables"
   ]
  },
  {
   "cell_type": "code",
   "execution_count": 25,
   "metadata": {},
   "outputs": [
    {
     "data": {
      "text/html": [
       "<div>\n",
       "<style scoped>\n",
       "    .dataframe tbody tr th:only-of-type {\n",
       "        vertical-align: middle;\n",
       "    }\n",
       "\n",
       "    .dataframe tbody tr th {\n",
       "        vertical-align: top;\n",
       "    }\n",
       "\n",
       "    .dataframe thead th {\n",
       "        text-align: right;\n",
       "    }\n",
       "</style>\n",
       "<table border=\"1\" class=\"dataframe\">\n",
       "  <thead>\n",
       "    <tr style=\"text-align: right;\">\n",
       "      <th></th>\n",
       "      <th>membership_category</th>\n",
       "      <th>avg_transaction_value</th>\n",
       "      <th>avg_frequency_login_days</th>\n",
       "      <th>points_in_wallet</th>\n",
       "      <th>feedback</th>\n",
       "    </tr>\n",
       "  </thead>\n",
       "  <tbody>\n",
       "    <tr>\n",
       "      <th>0</th>\n",
       "      <td>4</td>\n",
       "      <td>53005.25</td>\n",
       "      <td>17.00000</td>\n",
       "      <td>781.750000</td>\n",
       "      <td>2</td>\n",
       "    </tr>\n",
       "    <tr>\n",
       "      <th>1</th>\n",
       "      <td>5</td>\n",
       "      <td>12838.38</td>\n",
       "      <td>10.00000</td>\n",
       "      <td>686.849231</td>\n",
       "      <td>2</td>\n",
       "    </tr>\n",
       "    <tr>\n",
       "      <th>2</th>\n",
       "      <td>0</td>\n",
       "      <td>21027.00</td>\n",
       "      <td>22.00000</td>\n",
       "      <td>500.690000</td>\n",
       "      <td>0</td>\n",
       "    </tr>\n",
       "    <tr>\n",
       "      <th>3</th>\n",
       "      <td>0</td>\n",
       "      <td>25239.56</td>\n",
       "      <td>6.00000</td>\n",
       "      <td>567.660000</td>\n",
       "      <td>0</td>\n",
       "    </tr>\n",
       "    <tr>\n",
       "      <th>4</th>\n",
       "      <td>0</td>\n",
       "      <td>24483.66</td>\n",
       "      <td>16.00000</td>\n",
       "      <td>663.060000</td>\n",
       "      <td>0</td>\n",
       "    </tr>\n",
       "    <tr>\n",
       "      <th>...</th>\n",
       "      <td>...</td>\n",
       "      <td>...</td>\n",
       "      <td>...</td>\n",
       "      <td>...</td>\n",
       "      <td>...</td>\n",
       "    </tr>\n",
       "    <tr>\n",
       "      <th>36987</th>\n",
       "      <td>1</td>\n",
       "      <td>27277.68</td>\n",
       "      <td>6.00000</td>\n",
       "      <td>639.510000</td>\n",
       "      <td>1</td>\n",
       "    </tr>\n",
       "    <tr>\n",
       "      <th>36988</th>\n",
       "      <td>1</td>\n",
       "      <td>11069.71</td>\n",
       "      <td>28.00000</td>\n",
       "      <td>527.990000</td>\n",
       "      <td>0</td>\n",
       "    </tr>\n",
       "    <tr>\n",
       "      <th>36989</th>\n",
       "      <td>1</td>\n",
       "      <td>38127.56</td>\n",
       "      <td>15.96304</td>\n",
       "      <td>680.470000</td>\n",
       "      <td>0</td>\n",
       "    </tr>\n",
       "    <tr>\n",
       "      <th>36990</th>\n",
       "      <td>4</td>\n",
       "      <td>2378.86</td>\n",
       "      <td>20.00000</td>\n",
       "      <td>197.264414</td>\n",
       "      <td>1</td>\n",
       "    </tr>\n",
       "    <tr>\n",
       "      <th>36991</th>\n",
       "      <td>2</td>\n",
       "      <td>2189.68</td>\n",
       "      <td>15.96304</td>\n",
       "      <td>719.970000</td>\n",
       "      <td>2</td>\n",
       "    </tr>\n",
       "  </tbody>\n",
       "</table>\n",
       "<p>35829 rows × 5 columns</p>\n",
       "</div>"
      ],
      "text/plain": [
       "       membership_category  avg_transaction_value  avg_frequency_login_days  \\\n",
       "0                        4               53005.25                  17.00000   \n",
       "1                        5               12838.38                  10.00000   \n",
       "2                        0               21027.00                  22.00000   \n",
       "3                        0               25239.56                   6.00000   \n",
       "4                        0               24483.66                  16.00000   \n",
       "...                    ...                    ...                       ...   \n",
       "36987                    1               27277.68                   6.00000   \n",
       "36988                    1               11069.71                  28.00000   \n",
       "36989                    1               38127.56                  15.96304   \n",
       "36990                    4                2378.86                  20.00000   \n",
       "36991                    2                2189.68                  15.96304   \n",
       "\n",
       "       points_in_wallet  feedback  \n",
       "0            781.750000         2  \n",
       "1            686.849231         2  \n",
       "2            500.690000         0  \n",
       "3            567.660000         0  \n",
       "4            663.060000         0  \n",
       "...                 ...       ...  \n",
       "36987        639.510000         1  \n",
       "36988        527.990000         0  \n",
       "36989        680.470000         0  \n",
       "36990        197.264414         1  \n",
       "36991        719.970000         2  \n",
       "\n",
       "[35829 rows x 5 columns]"
      ]
     },
     "execution_count": 25,
     "metadata": {},
     "output_type": "execute_result"
    }
   ],
   "source": [
    "kBest = SelectKBest(f_regression, k=5) \n",
    "kBest.fit(X, y) \n",
    "bestFeatures = kBest.get_support(indices=True)\n",
    "X = X.iloc[:, list(bestFeatures)]\n",
    "X"
   ]
  },
  {
   "cell_type": "markdown",
   "metadata": {},
   "source": [
    "As expected, the 5 features chosen with this technique match with the 5 features that had the highest correlations with <i>churn_risk_score</i>."
   ]
  },
  {
   "cell_type": "markdown",
   "metadata": {},
   "source": [
    "Later on, some models will require the dataframe X to be standardized (i.e. Logistic Regression), so let's do that now, before getting into model fitting."
   ]
  },
  {
   "cell_type": "code",
   "execution_count": 26,
   "metadata": {},
   "outputs": [],
   "source": [
    "scaler = preprocessing.StandardScaler().fit(X)\n",
    "\n",
    "X_transformed = scaler.transform(X)\n",
    "\n",
    "X = pd.DataFrame(X_transformed, columns=X.columns[0:len(X.columns)])"
   ]
  },
  {
   "cell_type": "code",
   "execution_count": 27,
   "metadata": {
    "scrolled": true
   },
   "outputs": [
    {
     "data": {
      "text/html": [
       "<div>\n",
       "<style scoped>\n",
       "    .dataframe tbody tr th:only-of-type {\n",
       "        vertical-align: middle;\n",
       "    }\n",
       "\n",
       "    .dataframe tbody tr th {\n",
       "        vertical-align: top;\n",
       "    }\n",
       "\n",
       "    .dataframe thead th {\n",
       "        text-align: right;\n",
       "    }\n",
       "</style>\n",
       "<table border=\"1\" class=\"dataframe\">\n",
       "  <thead>\n",
       "    <tr style=\"text-align: right;\">\n",
       "      <th></th>\n",
       "      <th>membership_category</th>\n",
       "      <th>avg_transaction_value</th>\n",
       "      <th>avg_frequency_login_days</th>\n",
       "      <th>points_in_wallet</th>\n",
       "      <th>feedback</th>\n",
       "    </tr>\n",
       "  </thead>\n",
       "  <tbody>\n",
       "    <tr>\n",
       "      <th>0</th>\n",
       "      <td>1.112862</td>\n",
       "      <td>1.216415</td>\n",
       "      <td>0.118435</td>\n",
       "      <td>5.122080e-01</td>\n",
       "      <td>2.062039</td>\n",
       "    </tr>\n",
       "    <tr>\n",
       "      <th>1</th>\n",
       "      <td>1.715524</td>\n",
       "      <td>-0.845085</td>\n",
       "      <td>-0.681060</td>\n",
       "      <td>3.068010e-15</td>\n",
       "      <td>2.062039</td>\n",
       "    </tr>\n",
       "    <tr>\n",
       "      <th>2</th>\n",
       "      <td>-1.297787</td>\n",
       "      <td>-0.424818</td>\n",
       "      <td>0.689502</td>\n",
       "      <td>-1.004757e+00</td>\n",
       "      <td>-0.634340</td>\n",
       "    </tr>\n",
       "    <tr>\n",
       "      <th>3</th>\n",
       "      <td>-1.297787</td>\n",
       "      <td>-0.208615</td>\n",
       "      <td>-1.137914</td>\n",
       "      <td>-6.433002e-01</td>\n",
       "      <td>-0.634340</td>\n",
       "    </tr>\n",
       "    <tr>\n",
       "      <th>4</th>\n",
       "      <td>-1.297787</td>\n",
       "      <td>-0.247410</td>\n",
       "      <td>0.004221</td>\n",
       "      <td>-1.283976e-01</td>\n",
       "      <td>-0.634340</td>\n",
       "    </tr>\n",
       "  </tbody>\n",
       "</table>\n",
       "</div>"
      ],
      "text/plain": [
       "   membership_category  avg_transaction_value  avg_frequency_login_days  \\\n",
       "0             1.112862               1.216415                  0.118435   \n",
       "1             1.715524              -0.845085                 -0.681060   \n",
       "2            -1.297787              -0.424818                  0.689502   \n",
       "3            -1.297787              -0.208615                 -1.137914   \n",
       "4            -1.297787              -0.247410                  0.004221   \n",
       "\n",
       "   points_in_wallet  feedback  \n",
       "0      5.122080e-01  2.062039  \n",
       "1      3.068010e-15  2.062039  \n",
       "2     -1.004757e+00 -0.634340  \n",
       "3     -6.433002e-01 -0.634340  \n",
       "4     -1.283976e-01 -0.634340  "
      ]
     },
     "execution_count": 27,
     "metadata": {},
     "output_type": "execute_result"
    }
   ],
   "source": [
    "X.head()"
   ]
  },
  {
   "cell_type": "markdown",
   "metadata": {},
   "source": [
    "## Splitting into Train and Test"
   ]
  },
  {
   "cell_type": "code",
   "execution_count": 28,
   "metadata": {},
   "outputs": [],
   "source": [
    "X_train, X_test, y_train, y_test = train_test_split(X, y, test_size=0.3, random_state=42)"
   ]
  },
  {
   "cell_type": "code",
   "execution_count": 29,
   "metadata": {},
   "outputs": [
    {
     "data": {
      "text/plain": [
       "(10749, 5)"
      ]
     },
     "execution_count": 29,
     "metadata": {},
     "output_type": "execute_result"
    }
   ],
   "source": [
    "X_test.shape"
   ]
  },
  {
   "cell_type": "code",
   "execution_count": 30,
   "metadata": {},
   "outputs": [
    {
     "data": {
      "text/html": [
       "<div>\n",
       "<style scoped>\n",
       "    .dataframe tbody tr th:only-of-type {\n",
       "        vertical-align: middle;\n",
       "    }\n",
       "\n",
       "    .dataframe tbody tr th {\n",
       "        vertical-align: top;\n",
       "    }\n",
       "\n",
       "    .dataframe thead th {\n",
       "        text-align: right;\n",
       "    }\n",
       "</style>\n",
       "<table border=\"1\" class=\"dataframe\">\n",
       "  <thead>\n",
       "    <tr style=\"text-align: right;\">\n",
       "      <th></th>\n",
       "      <th>membership_category</th>\n",
       "      <th>avg_transaction_value</th>\n",
       "      <th>avg_frequency_login_days</th>\n",
       "      <th>points_in_wallet</th>\n",
       "      <th>feedback</th>\n",
       "    </tr>\n",
       "  </thead>\n",
       "  <tbody>\n",
       "    <tr>\n",
       "      <th>21211</th>\n",
       "      <td>-1.297787</td>\n",
       "      <td>-1.069419</td>\n",
       "      <td>-7.952732e-01</td>\n",
       "      <td>3.068010e-15</td>\n",
       "      <td>-0.634340</td>\n",
       "    </tr>\n",
       "    <tr>\n",
       "      <th>33562</th>\n",
       "      <td>-0.092462</td>\n",
       "      <td>-1.178077</td>\n",
       "      <td>1.146356e+00</td>\n",
       "      <td>3.336113e-01</td>\n",
       "      <td>-0.634340</td>\n",
       "    </tr>\n",
       "    <tr>\n",
       "      <th>35261</th>\n",
       "      <td>1.715524</td>\n",
       "      <td>0.862006</td>\n",
       "      <td>-1.023700e+00</td>\n",
       "      <td>8.576726e-02</td>\n",
       "      <td>-0.634340</td>\n",
       "    </tr>\n",
       "    <tr>\n",
       "      <th>19817</th>\n",
       "      <td>-0.695125</td>\n",
       "      <td>0.846059</td>\n",
       "      <td>-7.952732e-01</td>\n",
       "      <td>1.423322e+00</td>\n",
       "      <td>-0.634340</td>\n",
       "    </tr>\n",
       "    <tr>\n",
       "      <th>5214</th>\n",
       "      <td>-1.297787</td>\n",
       "      <td>0.381906</td>\n",
       "      <td>-1.623071e-15</td>\n",
       "      <td>-5.394021e-01</td>\n",
       "      <td>-0.634340</td>\n",
       "    </tr>\n",
       "    <tr>\n",
       "      <th>...</th>\n",
       "      <td>...</td>\n",
       "      <td>...</td>\n",
       "      <td>...</td>\n",
       "      <td>...</td>\n",
       "      <td>...</td>\n",
       "    </tr>\n",
       "    <tr>\n",
       "      <th>16850</th>\n",
       "      <td>-0.695125</td>\n",
       "      <td>0.197422</td>\n",
       "      <td>-1.623071e-15</td>\n",
       "      <td>1.392250e+00</td>\n",
       "      <td>-0.634340</td>\n",
       "    </tr>\n",
       "    <tr>\n",
       "      <th>6265</th>\n",
       "      <td>1.112862</td>\n",
       "      <td>-1.226292</td>\n",
       "      <td>-1.623071e-15</td>\n",
       "      <td>2.674944e-01</td>\n",
       "      <td>-0.634340</td>\n",
       "    </tr>\n",
       "    <tr>\n",
       "      <th>11284</th>\n",
       "      <td>-0.092462</td>\n",
       "      <td>-0.369053</td>\n",
       "      <td>2.326483e-01</td>\n",
       "      <td>8.333848e-02</td>\n",
       "      <td>-0.634340</td>\n",
       "    </tr>\n",
       "    <tr>\n",
       "      <th>860</th>\n",
       "      <td>-0.092462</td>\n",
       "      <td>0.896562</td>\n",
       "      <td>-1.252127e+00</td>\n",
       "      <td>-1.115581e-01</td>\n",
       "      <td>-0.634340</td>\n",
       "    </tr>\n",
       "    <tr>\n",
       "      <th>15795</th>\n",
       "      <td>-0.695125</td>\n",
       "      <td>-0.990668</td>\n",
       "      <td>-7.952732e-01</td>\n",
       "      <td>-1.656390e-01</td>\n",
       "      <td>0.713849</td>\n",
       "    </tr>\n",
       "  </tbody>\n",
       "</table>\n",
       "<p>25080 rows × 5 columns</p>\n",
       "</div>"
      ],
      "text/plain": [
       "       membership_category  avg_transaction_value  avg_frequency_login_days  \\\n",
       "21211            -1.297787              -1.069419             -7.952732e-01   \n",
       "33562            -0.092462              -1.178077              1.146356e+00   \n",
       "35261             1.715524               0.862006             -1.023700e+00   \n",
       "19817            -0.695125               0.846059             -7.952732e-01   \n",
       "5214             -1.297787               0.381906             -1.623071e-15   \n",
       "...                    ...                    ...                       ...   \n",
       "16850            -0.695125               0.197422             -1.623071e-15   \n",
       "6265              1.112862              -1.226292             -1.623071e-15   \n",
       "11284            -0.092462              -0.369053              2.326483e-01   \n",
       "860              -0.092462               0.896562             -1.252127e+00   \n",
       "15795            -0.695125              -0.990668             -7.952732e-01   \n",
       "\n",
       "       points_in_wallet  feedback  \n",
       "21211      3.068010e-15 -0.634340  \n",
       "33562      3.336113e-01 -0.634340  \n",
       "35261      8.576726e-02 -0.634340  \n",
       "19817      1.423322e+00 -0.634340  \n",
       "5214      -5.394021e-01 -0.634340  \n",
       "...                 ...       ...  \n",
       "16850      1.392250e+00 -0.634340  \n",
       "6265       2.674944e-01 -0.634340  \n",
       "11284      8.333848e-02 -0.634340  \n",
       "860       -1.115581e-01 -0.634340  \n",
       "15795     -1.656390e-01  0.713849  \n",
       "\n",
       "[25080 rows x 5 columns]"
      ]
     },
     "execution_count": 30,
     "metadata": {},
     "output_type": "execute_result"
    }
   ],
   "source": [
    "X_train"
   ]
  },
  {
   "cell_type": "markdown",
   "metadata": {},
   "source": [
    "## Some Theory"
   ]
  },
  {
   "cell_type": "markdown",
   "metadata": {},
   "source": [
    "Before getting into constructing models and interpreting the results, let's first understand some concepts, with the help of which we can interpret the results of our models."
   ]
  },
  {
   "cell_type": "markdown",
   "metadata": {},
   "source": [
    "#### <i>Confusion Matrix</i>  \n",
    "<br>\n",
    "<b>True Positive (TP)</b> = model <i>correctly</i> predicts the <i>positive</i> class. Example: model predicted class '4' exactly (so, NOT something else), and the ACTUAL value WAS '4' (so, NOT something else). <br>\n",
    "<b>True Negative (TN)</b> = model <i>correctly</i> predicts the <i>negative</i> class. Example: model predicted NOT class '4' (so, something else) and the actual value was INDEED NOT '4' (so, something else). <br>\n",
    "<b>False Positive (FP)</b> = model <i>incorrectly</i> predicts the <i>positive</i> class. Example: model predicted NOT class '4' (so, something else), but the ACTUAL value WAS '4' (so, NOT something else). <br>\n",
    "<b>False Negative (FN)</b> = model <i>incorrectly</i> predicts the <i>negative</i> class. Example: model predicted class '4' (so, NOT something else), but the actual value was NOT class '4' (so, something else). <br>"
   ]
  },
  {
   "cell_type": "markdown",
   "metadata": {},
   "source": [
    "<img src=\"multiclass_confusion_matrix.png\" style=\"width: 500px;\"/> "
   ]
  },
  {
   "cell_type": "markdown",
   "metadata": {},
   "source": [
    "1) The total number of any class (in test examples) -> the sum of the corresponding row (i.e. TP + FN for that class) <br>\n",
    "2) The total number of <b>FN's</b> for a class -> sum of values in the corresponding <b>row</b> (excluding TP) <br>\n",
    "3) The total number of <b>FP's</b> for a class -> sum of values in the corresponding <b>column</b> (excluding TP) <br>\n",
    "4) The total number of <b>TN's</b> for a class -> sum of all the columns and rows <b>excluding that class's column and row</b> <br>\n"
   ]
  },
  {
   "cell_type": "markdown",
   "metadata": {},
   "source": [
    "<b>Precision</b> = TruePositives $\\div$ (TruePositives + FalsePositives) -> when it predicts positive, how often is it correct? <br>\n",
    "<b>Recall</b> = TruePositives $\\div$ (TruePositives + FalseNegatives) -> out of all ACTUAL POSITIVE cases, how often it predicted positive? <br>\n",
    "<b>Accuracy</b> = (TruePositives + TrueNegatives) $\\div$ total -> overall, how often it predicted correctly? <br>\n",
    "<b>Balanced Accuracy</b> = (Sum of all Precisions) $\\div$ (number of classes) <br>\n",
    "<b>F-Measure</b> = (2 * Precision * Recall) $\\div$ (Precision + Recall) -> takes into account both Precision and Recall. Highest value is 1, when both are perfect, and 0 when either Precision or Recall is 0. <br>\n",
    "<b>Support</b> = Number of observations for that class (in test dataset)"
   ]
  },
  {
   "cell_type": "markdown",
   "metadata": {},
   "source": [
    "## Logistic Regression"
   ]
  },
  {
   "cell_type": "code",
   "execution_count": 31,
   "metadata": {
    "scrolled": false
   },
   "outputs": [
    {
     "name": "stdout",
     "output_type": "stream",
     "text": [
      "Accuracy = 0.639315285142804\n",
      "Balanced Accuracy = 0.6333095085960789\n",
      "\n",
      "Confusion Matrix: \n",
      "[[ 519  289    0    0    0]\n",
      " [ 341  477    0    0    0]\n",
      " [   0    0 2485  743    3]\n",
      " [   0    0  713 1491  821]\n",
      " [   0    0    0  967 1900]]\n",
      "\n",
      "              precision    recall  f1-score   support\n",
      "\n",
      "         1.0       0.60      0.64      0.62       808\n",
      "         2.0       0.62      0.58      0.60       818\n",
      "         3.0       0.78      0.77      0.77      3231\n",
      "         4.0       0.47      0.49      0.48      3025\n",
      "         5.0       0.70      0.66      0.68      2867\n",
      "\n",
      "    accuracy                           0.64     10749\n",
      "   macro avg       0.63      0.63      0.63     10749\n",
      "weighted avg       0.64      0.64      0.64     10749\n",
      "\n"
     ]
    }
   ],
   "source": [
    "class_weights = {1.0: 100, 2.0: 100, 3.0: 3, 4.0: 2.5, 5.0: 2.5}\n",
    "\n",
    "model = LogisticRegression(multi_class='multinomial', solver='lbfgs', penalty=\"l2\", C=1,\n",
    "                           class_weight=None, max_iter=1000)\n",
    "\n",
    "\n",
    "model.fit(X_train, y_train)\n",
    "\n",
    "y_pred = model.predict(X_test)\n",
    "bal_score = metrics.balanced_accuracy_score(y_pred, y_test)\n",
    "score = metrics.accuracy_score(y_pred, y_test)\n",
    "\n",
    "print(\"Accuracy = \" + str(score))\n",
    "print(\"Balanced Accuracy = \" + str(bal_score))\n",
    "print(\"\\n\" + \"Confusion Matrix: \\n\" + str(confusion_matrix(y_test, y_pred)) + \"\\n\")\n",
    "print(classification_report(y_test, y_pred))"
   ]
  },
  {
   "cell_type": "markdown",
   "metadata": {},
   "source": [
    "Before interpreting the results, I would like to obtain these results myself by using the above formulas. Just to understand how things work and check."
   ]
  },
  {
   "cell_type": "code",
   "execution_count": 32,
   "metadata": {},
   "outputs": [
    {
     "name": "stdout",
     "output_type": "stream",
     "text": [
      "Precision for class 3: 2485/(2485 + 713) = 0.7770481550969356\n",
      "Recall for class 3: 2485/(2485 + 743 + 3) = 0.7691117301145156\n",
      "f1 score for class 3: (2 * 0.78 * 0.77)/(0.77 + 0.78) = 0.7749677419354839\n",
      "Accuracy: (diagonal values) ->(519+477+2485+1491+1900)/total(10749) = 0.639315285142804\n",
      "Balanced Accuracy: (0.60 + 0.62 + 0.78 + 0.47 + 0.70)/5 = 0.634\n",
      "Macro Avg: for f1: (0.62+0.60+0.77+0.48+0.68)/5 = 0.63\n",
      "Weighted Avg for f1: (0.62*808+0.6*818+0.77*3231+0.48*3025+0.68*2867)/10749 = 0.6401702483951996\n"
     ]
    }
   ],
   "source": [
    "print(\"Precision for class 3: 2485/(2485 + 713) = \" + str(2485/(2485+713)))\n",
    "print(\"Recall for class 3: 2485/(2485 + 743 + 3) = \" + str(2485/(2485+743+3)))\n",
    "print(\"f1 score for class 3: (2 * 0.78 * 0.77)/(0.77 + 0.78) = \" + str((2 * 0.78 * 0.77)/(0.77 + 0.78)))\n",
    "print(\"Accuracy: (diagonal values) ->(519+477+2485+1491+1900)/total(10749) = \" + str((519+477+2485+1491+1900)/10749))\n",
    "print(\"Balanced Accuracy: (0.60 + 0.62 + 0.78 + 0.47 + 0.70)/5 = \" + str((0.60 + 0.62 + 0.78 + 0.47 + 0.70)/5))\n",
    "print(\"Macro Avg: for f1: (0.62+0.60+0.77+0.48+0.68)/5 = \" + str((0.62+0.60+0.77+0.48+0.68)/5))\n",
    "print(\"Weighted Avg for f1: (0.62*808+0.6*818+0.77*3231+0.48*3025+0.68*2867)/10749 = \" + \\\n",
    "      str((0.62*808+0.6*818+0.77*3231+0.48*3025+0.68*2867)/10749))"
   ]
  },
  {
   "cell_type": "markdown",
   "metadata": {},
   "source": [
    "The results are not that bright. In a lot of cases, we see that the model confuses class 1 and 2 separetly, and 3,4, 5 separetly. It is easy to confuse within 1 unit (i.e. classify 1 as 2), although classes 2 and 3 are never confused amongst themselves. Best precision and recall is for class 3, probably because it's the more frequent class. Tweaking the parameters don't really increase the results, it's pretty much the same. You see I intentionally added parameters, but the results don't change that much. "
   ]
  },
  {
   "cell_type": "markdown",
   "metadata": {},
   "source": [
    "Logistic Regression isn't the best model for this specific task. The classes are easily confused. Logistic Regression tries to separate each class with a line, but doesn't care about the margins between 2 classes, like SVM does. We will see below that SVM does silimar technique but obtains better results for this reason."
   ]
  },
  {
   "cell_type": "markdown",
   "metadata": {},
   "source": [
    "## SVM"
   ]
  },
  {
   "cell_type": "code",
   "execution_count": 33,
   "metadata": {},
   "outputs": [
    {
     "name": "stdout",
     "output_type": "stream",
     "text": [
      "Accuracy: 0.7615592148106801\n",
      "Balanced Accuracy = 0.7653159223159619\n",
      "\n",
      "Confusion Matrix: \n",
      "[[ 627  181    0    0    0]\n",
      " [ 230  588    0    0    0]\n",
      " [   0    0 2873  358    0]\n",
      " [   0    0  264 1281 1480]\n",
      " [   0    0    3   47 2817]]\n",
      "\n",
      "              precision    recall  f1-score   support\n",
      "\n",
      "         1.0       0.73      0.78      0.75       808\n",
      "         2.0       0.76      0.72      0.74       818\n",
      "         3.0       0.91      0.89      0.90      3231\n",
      "         4.0       0.76      0.42      0.54      3025\n",
      "         5.0       0.66      0.98      0.79      2867\n",
      "\n",
      "    accuracy                           0.76     10749\n",
      "   macro avg       0.77      0.76      0.75     10749\n",
      "weighted avg       0.78      0.76      0.75     10749\n",
      "\n"
     ]
    }
   ],
   "source": [
    "from sklearn.pipeline import make_pipeline\n",
    "from sklearn.preprocessing import StandardScaler\n",
    "from sklearn.svm import SVC\n",
    "clf = SVC(C=10, kernel='rbf', gamma='auto', max_iter=-1)\n",
    "clf = clf.fit(X_train,y_train)\n",
    "\n",
    "y_pred = clf.predict(X_test)\n",
    "bal_score = metrics.balanced_accuracy_score(y_pred, y_test)\n",
    "\n",
    "print(\"Accuracy:\",metrics.accuracy_score(y_test, y_pred))\n",
    "print(\"Balanced Accuracy = \" + str(bal_score))\n",
    "print(\"\\n\" + \"Confusion Matrix: \\n\" + str(confusion_matrix(y_test, y_pred)) + \"\\n\")\n",
    "print(classification_report(y_test, y_pred))"
   ]
  },
  {
   "cell_type": "markdown",
   "metadata": {},
   "source": [
    "As you see, SVM is more suitable for more complex classification tasks like this. The results are much better. Although it's much slower than Logistic Regression, but in our case the observations are not that many, so it's better to use SVM. But we see that for the class 4 it fails to predict well. It thought 278 cases were class 3, and 1490 cases were class 5, but those cases were actually 4. Similar problem was with Logistic Regression, but the recall for class 4 was 0.49. We can conclude so far that the reason for such low accuracies is that the number of observations is too little and the data is noisy. And again, tweaking the arguments doesn't really improve the results. <br> \n",
    "By the way, the imbalance of the data seems not to be that much of a problem. Main confusion is between classes 3 and 4."
   ]
  },
  {
   "cell_type": "markdown",
   "metadata": {},
   "source": [
    "## Decision Tree"
   ]
  },
  {
   "cell_type": "code",
   "execution_count": 34,
   "metadata": {},
   "outputs": [
    {
     "name": "stdout",
     "output_type": "stream",
     "text": [
      "Accuracy: 0.794957670480975\n",
      "Balanced Accuracy = 0.811519701924267\n",
      "\n",
      "Confusion Matrix: \n",
      "[[ 778   30    0    0    0]\n",
      " [ 323  495    0    0    0]\n",
      " [   0    0 3097  134    0]\n",
      " [   0    0  377 1519 1129]\n",
      " [   0    0    0  211 2656]]\n",
      "\n",
      "              precision    recall  f1-score   support\n",
      "\n",
      "         1.0       0.71      0.96      0.82       808\n",
      "         2.0       0.94      0.61      0.74       818\n",
      "         3.0       0.89      0.96      0.92      3231\n",
      "         4.0       0.81      0.50      0.62      3025\n",
      "         5.0       0.70      0.93      0.80      2867\n",
      "\n",
      "    accuracy                           0.79     10749\n",
      "   macro avg       0.81      0.79      0.78     10749\n",
      "weighted avg       0.81      0.79      0.78     10749\n",
      "\n"
     ]
    }
   ],
   "source": [
    "clf = DecisionTreeClassifier(criterion=\"gini\", max_depth=7) \n",
    "\n",
    "clf = clf.fit(X_train,y_train)\n",
    "\n",
    "y_pred = clf.predict(X_test)\n",
    "bal_score = metrics.balanced_accuracy_score(y_pred, y_test)\n",
    "\n",
    "print(\"Accuracy:\",metrics.accuracy_score(y_test, y_pred))\n",
    "print(\"Balanced Accuracy = \" + str(bal_score))\n",
    "print(\"\\n\" + \"Confusion Matrix: \\n\" + str(confusion_matrix(y_test, y_pred)) + \"\\n\")\n",
    "print(classification_report(y_test, y_pred))"
   ]
  },
  {
   "cell_type": "markdown",
   "metadata": {},
   "source": [
    "The results are better with Decision Tree. The algorithm is a lot different, but the same thing happens here: class 4 is badly predicted. Maximum depth is the optimum at number 7, as I discovered after trying around different numbers."
   ]
  },
  {
   "cell_type": "markdown",
   "metadata": {},
   "source": [
    "## Random Forest"
   ]
  },
  {
   "cell_type": "code",
   "execution_count": 35,
   "metadata": {},
   "outputs": [
    {
     "name": "stdout",
     "output_type": "stream",
     "text": [
      "Accuracy: 0.793283096101963\n",
      "Balanced Accuracy = 0.8042605969910307\n",
      "\n",
      "Confusion Matrix: \n",
      "[[ 725   83    0    0    0]\n",
      " [ 283  535    0    0    0]\n",
      " [   0    0 3016  215    0]\n",
      " [   0    0  316 1438 1271]\n",
      " [   0    0    0   54 2813]]\n",
      "\n",
      "              precision    recall  f1-score   support\n",
      "\n",
      "         1.0       0.72      0.90      0.80       808\n",
      "         2.0       0.87      0.65      0.75       818\n",
      "         3.0       0.91      0.93      0.92      3231\n",
      "         4.0       0.84      0.48      0.61      3025\n",
      "         5.0       0.69      0.98      0.81      2867\n",
      "\n",
      "    accuracy                           0.79     10749\n",
      "   macro avg       0.80      0.79      0.78     10749\n",
      "weighted avg       0.81      0.79      0.78     10749\n",
      "\n"
     ]
    }
   ],
   "source": [
    "clf = RandomForestClassifier(max_depth=8, random_state=0)\n",
    "clf.fit(X_train, y_train)\n",
    "y_pred = clf.predict(X_test)\n",
    "\n",
    "bal_score = metrics.balanced_accuracy_score(y_pred, y_test)\n",
    "\n",
    "print(\"Accuracy:\",metrics.accuracy_score(y_test, y_pred))\n",
    "print(\"Balanced Accuracy = \" + str(bal_score))\n",
    "print(\"\\n\" + \"Confusion Matrix: \\n\" + str(confusion_matrix(y_test, y_pred)) + \"\\n\")\n",
    "print(classification_report(y_test, y_pred))"
   ]
  },
  {
   "cell_type": "markdown",
   "metadata": {},
   "source": [
    "Random Forest, although is a more sophisticated algorithm compared to Decision Tree, but it doesn't mean it will always provide better results than Decision Tree. It's close, but still Decision Tree is on the lead."
   ]
  },
  {
   "cell_type": "markdown",
   "metadata": {},
   "source": [
    "## KNN"
   ]
  },
  {
   "cell_type": "code",
   "execution_count": 36,
   "metadata": {},
   "outputs": [
    {
     "name": "stdout",
     "output_type": "stream",
     "text": [
      "Accuracy: 0.824262722113685\n",
      "Balanced Accuracy = 0.8192042076481686\n",
      "\n",
      "Confusion Matrix: \n",
      "[[ 714   94    0    0    0]\n",
      " [ 231  585    1    1    0]\n",
      " [   0    0 3065  165    1]\n",
      " [   0    0  288 2282  455]\n",
      " [   0    0    1  652 2214]]\n",
      "\n",
      "              precision    recall  f1-score   support\n",
      "\n",
      "         1.0       0.76      0.88      0.81       808\n",
      "         2.0       0.86      0.72      0.78       818\n",
      "         3.0       0.91      0.95      0.93      3231\n",
      "         4.0       0.74      0.75      0.75      3025\n",
      "         5.0       0.83      0.77      0.80      2867\n",
      "\n",
      "    accuracy                           0.82     10749\n",
      "   macro avg       0.82      0.81      0.81     10749\n",
      "weighted avg       0.83      0.82      0.82     10749\n",
      "\n"
     ]
    }
   ],
   "source": [
    "from sklearn.neighbors import KNeighborsClassifier\n",
    "clf = KNeighborsClassifier(n_neighbors=6)\n",
    "clf.fit(X, y)\n",
    "\n",
    "y_pred = clf.predict(X_test)\n",
    "bal_score = metrics.balanced_accuracy_score(y_pred, y_test)\n",
    "\n",
    "print(\"Accuracy:\",metrics.accuracy_score(y_test, y_pred))\n",
    "print(\"Balanced Accuracy = \" + str(bal_score))\n",
    "print(\"\\n\" + \"Confusion Matrix: \\n\" + str(confusion_matrix(y_test, y_pred)) + \"\\n\")\n",
    "print(classification_report(y_test, y_pred))"
   ]
  },
  {
   "cell_type": "markdown",
   "metadata": {},
   "source": [
    "When k=1, the accuracy results will be 100%. This is because the closest point to any training data point is itself. Hence the prediction is always accurate with K=1. I chose the number 6, because we have 5 classes, and if the new observation is looking at 5 neighbors, it won't know which one to choose. But in case k=6, there will be at least 2 of the same class neighbors, and this new observation will be classified with them. But there is a risk that the model is overfitting. So I belive Decision Tree is the best so far, because it's more reliable."
   ]
  },
  {
   "cell_type": "markdown",
   "metadata": {},
   "source": [
    "## Neural Network"
   ]
  },
  {
   "cell_type": "code",
   "execution_count": 37,
   "metadata": {},
   "outputs": [],
   "source": [
    "import tensorflow as tf\n",
    "from tensorflow import keras\n",
    "\n",
    "y_train = tf.keras.utils.to_categorical(y_train, num_classes = 6) # num_classes is (greatest number in y_train) + 1"
   ]
  },
  {
   "cell_type": "code",
   "execution_count": 38,
   "metadata": {},
   "outputs": [],
   "source": [
    "# Import `Sequential` from `keras.models`\n",
    "from keras.models import Sequential\n",
    "\n",
    "# Import `Dense` from `keras.layers`\n",
    "from keras.layers import Dense\n",
    "\n",
    "# Initialize the constructor\n",
    "model = Sequential()\n",
    "\n",
    "# Add layers\n",
    "model.add(Dense(15, activation='relu', input_dim=5))\n",
    "model.add(Dense(8, activation='relu', input_dim=15))\n",
    "model.add(Dense(6, activation='relu', input_dim=8))\n",
    "\n",
    "# Add output layer \n",
    "model.add(Dense(6, activation='softmax'))"
   ]
  },
  {
   "cell_type": "code",
   "execution_count": 39,
   "metadata": {},
   "outputs": [
    {
     "name": "stdout",
     "output_type": "stream",
     "text": [
      "Model: \"sequential\"\n",
      "_________________________________________________________________\n",
      "Layer (type)                 Output Shape              Param #   \n",
      "=================================================================\n",
      "dense (Dense)                (None, 15)                90        \n",
      "_________________________________________________________________\n",
      "dense_1 (Dense)              (None, 8)                 128       \n",
      "_________________________________________________________________\n",
      "dense_2 (Dense)              (None, 6)                 54        \n",
      "_________________________________________________________________\n",
      "dense_3 (Dense)              (None, 6)                 42        \n",
      "=================================================================\n",
      "Total params: 314\n",
      "Trainable params: 314\n",
      "Non-trainable params: 0\n",
      "_________________________________________________________________\n"
     ]
    }
   ],
   "source": [
    "# Model output shape\n",
    "model.output_shape\n",
    "\n",
    "# Model summary\n",
    "model.summary()\n",
    "\n",
    "# Model config\n",
    "#model.get_config()\n",
    "\n",
    "# List all weight tensors \n",
    "#model.get_weights()"
   ]
  },
  {
   "cell_type": "code",
   "execution_count": 42,
   "metadata": {},
   "outputs": [
    {
     "name": "stdout",
     "output_type": "stream",
     "text": [
      "Epoch 1/8\n",
      "25080/25080 [==============================] - 24s 926us/step - loss: 0.4315 - accuracy: 0.7520\n",
      "Epoch 2/8\n",
      "25080/25080 [==============================] - 29s 1ms/step - loss: 0.4240 - accuracy: 0.7509\n",
      "Epoch 3/8\n",
      "25080/25080 [==============================] - 28s 1ms/step - loss: 0.4178 - accuracy: 0.7556\n",
      "Epoch 4/8\n",
      "25080/25080 [==============================] - 28s 1ms/step - loss: 0.4177 - accuracy: 0.7594\n",
      "Epoch 5/8\n",
      "25080/25080 [==============================] - 28s 1ms/step - loss: 0.4131 - accuracy: 0.7589\n",
      "Epoch 6/8\n",
      "25080/25080 [==============================] - 28s 1ms/step - loss: 0.4118 - accuracy: 0.7608\n",
      "Epoch 7/8\n",
      "25080/25080 [==============================] - 29s 1ms/step - loss: 0.4044 - accuracy: 0.7610\n",
      "Epoch 8/8\n",
      "25080/25080 [==============================] - 28s 1ms/step - loss: 0.4106 - accuracy: 0.7596\n"
     ]
    }
   ],
   "source": [
    "model.compile(loss='categorical_crossentropy', \n",
    "              optimizer='adam',\n",
    "              metrics=['accuracy'])\n",
    "                   \n",
    "history = model.fit(X_train, y_train,epochs=8, batch_size=1, verbose=1)"
   ]
  },
  {
   "cell_type": "code",
   "execution_count": 43,
   "metadata": {},
   "outputs": [
    {
     "data": {
      "image/png": "[encoded data removed]",
      "text/plain": [
       "<Figure size 432x288 with 1 Axes>"
      ]
     },
     "metadata": {
      "needs_background": "light"
     },
     "output_type": "display_data"
    }
   ],
   "source": [
    "history_dict = history.history\n",
    "\n",
    "# learning curve\n",
    "# accuracy\n",
    "acc = history_dict['accuracy']\n",
    "\n",
    "# loss\n",
    "loss = history_dict['loss']\n",
    "\n",
    "# range of X (no. of epochs)\n",
    "epochs = range(1, len(acc) + 1)\n",
    "\n",
    "# plot\n",
    "# \"r\" is for \"solid red line\"\n",
    "plt.plot(epochs, acc, 'r', label='Training accuracy')\n",
    "plt.title('Training and validation accuracy')\n",
    "plt.xlabel('Epochs')\n",
    "plt.ylabel('Accuracy')\n",
    "plt.legend()\n",
    "\n",
    "plt.show()"
   ]
  },
  {
   "cell_type": "code",
   "execution_count": 44,
   "metadata": {},
   "outputs": [
    {
     "name": "stdout",
     "output_type": "stream",
     "text": [
      "Accuracy: 0.7658386826681551\n",
      "Balanced Accuracy = 0.7620592350413496\n",
      "\n",
      "Confusion Matrix: \n",
      "[[ 603  205    0    0    0]\n",
      " [ 194  624    0    0    0]\n",
      " [   3    0 2972  256    0]\n",
      " [   0    0  320 2109  596]\n",
      " [   0    0    0  943 1924]]\n",
      "\n",
      "              precision    recall  f1-score   support\n",
      "\n",
      "         1.0       0.75      0.75      0.75       808\n",
      "         2.0       0.75      0.76      0.76       818\n",
      "         3.0       0.90      0.92      0.91      3231\n",
      "         4.0       0.64      0.70      0.67      3025\n",
      "         5.0       0.76      0.67      0.71      2867\n",
      "\n",
      "    accuracy                           0.77     10749\n",
      "   macro avg       0.76      0.76      0.76     10749\n",
      "weighted avg       0.77      0.77      0.77     10749\n",
      "\n"
     ]
    }
   ],
   "source": [
    "y_pred = model.predict(X_test).argmax(axis=1)\n",
    "\n",
    "bal_score = metrics.balanced_accuracy_score(y_pred, y_test)\n",
    "\n",
    "print(\"Accuracy:\",metrics.accuracy_score(y_test, y_pred))\n",
    "print(\"Balanced Accuracy = \" + str(bal_score))\n",
    "print(\"\\n\" + \"Confusion Matrix: \\n\" + str(confusion_matrix(y_test, y_pred)) + \"\\n\")\n",
    "print(classification_report(y_test, y_pred))"
   ]
  },
  {
   "cell_type": "markdown",
   "metadata": {},
   "source": [
    "I played around the number of layers and units to get the highest accuracy scores, but not much changes for different numbers. The results are almost the same as you see above. I thought that Neural Network would be the best model, but it's questionable. One thing that is good, is that results for class 4 are better than we had in Decision Tree. The best results were produced by KNN, but I'm afraid to come to that conclusion because it can be overfitting while others don't. As a future work it would be nice to do cross validation to make sure. "
   ]
  },
  {
   "cell_type": "markdown",
   "metadata": {},
   "source": [
    "Thank you for this nice opportunity to strenghten my knowledge through practice. This has been very helpful, I have learned a lot. I know there is so much more I could have learned and done in this project. As a future work, I need to dive more deeply into how all these algorithms work, what are their strenghts and weaknesses for different tasks. "
   ]
  },
  {
   "cell_type": "code",
   "execution_count": null,
   "metadata": {},
   "outputs": [],
   "source": []
  }
 ],
 "metadata": {
  "kernelspec": {
   "display_name": "Python 3",
   "language": "python",
   "name": "python3"
  },
  "language_info": {
   "codemirror_mode": {
    "name": "ipython",
    "version": 3
   },
   "file_extension": ".py",
   "mimetype": "text/x-python",
   "name": "python",
   "nbconvert_exporter": "python",
   "pygments_lexer": "ipython3",
   "version": "3.8.5"
  }
 },
 "nbformat": 4,
 "nbformat_minor": 4
}
