{
 "cells": [
  {
   "cell_type": "markdown",
   "metadata": {
    "id": "SFHxFUOwjFgk"
   },
   "source": [
    "##  Logistic Regression"
   ]
  },
  {
   "cell_type": "markdown",
   "metadata": {
    "id": "YzlXFWlXjFgs"
   },
   "source": [
    "### Loading of Data"
   ]
  },
  {
   "cell_type": "code",
   "execution_count": 2,
   "metadata": {
    "executionInfo": {
     "elapsed": 654,
     "status": "ok",
     "timestamp": 1616055445735,
     "user": {
      "displayName": "Mouna Kacimi",
      "photoUrl": "",
      "userId": "13741257071130912570"
     },
     "user_tz": -60
    },
    "id": "me_Ug6rnjFgt"
   },
   "outputs": [],
   "source": [
    "import numpy as np\n",
    "import matplotlib.pyplot as plt\n",
    "import pandas as pd"
   ]
  },
  {
   "cell_type": "code",
   "execution_count": 3,
   "metadata": {
    "executionInfo": {
     "elapsed": 633,
     "status": "ok",
     "timestamp": 1616055508883,
     "user": {
      "displayName": "Mouna Kacimi",
      "photoUrl": "",
      "userId": "13741257071130912570"
     },
     "user_tz": -60
    },
    "id": "zJXF4JP-jFgu"
   },
   "outputs": [],
   "source": [
    "df=pd.read_csv(\"admission.txt\",header=None)\n",
    "X=df.iloc[:,:-1].values\n",
    "y=df.iloc[:,-1].values"
   ]
  },
  {
   "cell_type": "code",
   "execution_count": 4,
   "metadata": {
    "colab": {
     "base_uri": "https://localhost:8080/",
     "height": 226
    },
    "executionInfo": {
     "elapsed": 668,
     "status": "ok",
     "timestamp": 1616055516426,
     "user": {
      "displayName": "Mouna Kacimi",
      "photoUrl": "",
      "userId": "13741257071130912570"
     },
     "user_tz": -60
    },
    "id": "a16fGcaNjFgv",
    "outputId": "479aa6c4-a305-44aa-ccd2-5e03b44c01b1"
   },
   "outputs": [
    {
     "data": {
      "text/html": [
       "<div>\n",
       "<style scoped>\n",
       "    .dataframe tbody tr th:only-of-type {\n",
       "        vertical-align: middle;\n",
       "    }\n",
       "\n",
       "    .dataframe tbody tr th {\n",
       "        vertical-align: top;\n",
       "    }\n",
       "\n",
       "    .dataframe thead th {\n",
       "        text-align: right;\n",
       "    }\n",
       "</style>\n",
       "<table border=\"1\" class=\"dataframe\">\n",
       "  <thead>\n",
       "    <tr style=\"text-align: right;\">\n",
       "      <th></th>\n",
       "      <th>0</th>\n",
       "      <th>1</th>\n",
       "      <th>2</th>\n",
       "    </tr>\n",
       "  </thead>\n",
       "  <tbody>\n",
       "    <tr>\n",
       "      <th>0</th>\n",
       "      <td>34.623660</td>\n",
       "      <td>78.024693</td>\n",
       "      <td>0</td>\n",
       "    </tr>\n",
       "    <tr>\n",
       "      <th>1</th>\n",
       "      <td>30.286711</td>\n",
       "      <td>43.894998</td>\n",
       "      <td>0</td>\n",
       "    </tr>\n",
       "    <tr>\n",
       "      <th>2</th>\n",
       "      <td>35.847409</td>\n",
       "      <td>72.902198</td>\n",
       "      <td>0</td>\n",
       "    </tr>\n",
       "    <tr>\n",
       "      <th>3</th>\n",
       "      <td>60.182599</td>\n",
       "      <td>86.308552</td>\n",
       "      <td>1</td>\n",
       "    </tr>\n",
       "    <tr>\n",
       "      <th>4</th>\n",
       "      <td>79.032736</td>\n",
       "      <td>75.344376</td>\n",
       "      <td>1</td>\n",
       "    </tr>\n",
       "  </tbody>\n",
       "</table>\n",
       "</div>"
      ],
      "text/plain": [
       "           0          1  2\n",
       "0  34.623660  78.024693  0\n",
       "1  30.286711  43.894998  0\n",
       "2  35.847409  72.902198  0\n",
       "3  60.182599  86.308552  1\n",
       "4  79.032736  75.344376  1"
      ]
     },
     "execution_count": 4,
     "metadata": {},
     "output_type": "execute_result"
    }
   ],
   "source": [
    "df.head()"
   ]
  },
  {
   "cell_type": "code",
   "execution_count": 5,
   "metadata": {
    "colab": {
     "base_uri": "https://localhost:8080/",
     "height": 320
    },
    "executionInfo": {
     "elapsed": 638,
     "status": "ok",
     "timestamp": 1616055519595,
     "user": {
      "displayName": "Mouna Kacimi",
      "photoUrl": "",
      "userId": "13741257071130912570"
     },
     "user_tz": -60
    },
    "id": "Z61KUQNJjFgw",
    "outputId": "2e3e9af2-d39e-46c4-ccd0-e11a65ef200c"
   },
   "outputs": [
    {
     "data": {
      "text/html": [
       "<div>\n",
       "<style scoped>\n",
       "    .dataframe tbody tr th:only-of-type {\n",
       "        vertical-align: middle;\n",
       "    }\n",
       "\n",
       "    .dataframe tbody tr th {\n",
       "        vertical-align: top;\n",
       "    }\n",
       "\n",
       "    .dataframe thead th {\n",
       "        text-align: right;\n",
       "    }\n",
       "</style>\n",
       "<table border=\"1\" class=\"dataframe\">\n",
       "  <thead>\n",
       "    <tr style=\"text-align: right;\">\n",
       "      <th></th>\n",
       "      <th>0</th>\n",
       "      <th>1</th>\n",
       "      <th>2</th>\n",
       "    </tr>\n",
       "  </thead>\n",
       "  <tbody>\n",
       "    <tr>\n",
       "      <th>count</th>\n",
       "      <td>100.000000</td>\n",
       "      <td>100.000000</td>\n",
       "      <td>100.000000</td>\n",
       "    </tr>\n",
       "    <tr>\n",
       "      <th>mean</th>\n",
       "      <td>65.644274</td>\n",
       "      <td>66.221998</td>\n",
       "      <td>0.600000</td>\n",
       "    </tr>\n",
       "    <tr>\n",
       "      <th>std</th>\n",
       "      <td>19.458222</td>\n",
       "      <td>18.582783</td>\n",
       "      <td>0.492366</td>\n",
       "    </tr>\n",
       "    <tr>\n",
       "      <th>min</th>\n",
       "      <td>30.058822</td>\n",
       "      <td>30.603263</td>\n",
       "      <td>0.000000</td>\n",
       "    </tr>\n",
       "    <tr>\n",
       "      <th>25%</th>\n",
       "      <td>50.919511</td>\n",
       "      <td>48.179205</td>\n",
       "      <td>0.000000</td>\n",
       "    </tr>\n",
       "    <tr>\n",
       "      <th>50%</th>\n",
       "      <td>67.032988</td>\n",
       "      <td>67.682381</td>\n",
       "      <td>1.000000</td>\n",
       "    </tr>\n",
       "    <tr>\n",
       "      <th>75%</th>\n",
       "      <td>80.212529</td>\n",
       "      <td>79.360605</td>\n",
       "      <td>1.000000</td>\n",
       "    </tr>\n",
       "    <tr>\n",
       "      <th>max</th>\n",
       "      <td>99.827858</td>\n",
       "      <td>98.869436</td>\n",
       "      <td>1.000000</td>\n",
       "    </tr>\n",
       "  </tbody>\n",
       "</table>\n",
       "</div>"
      ],
      "text/plain": [
       "                0           1           2\n",
       "count  100.000000  100.000000  100.000000\n",
       "mean    65.644274   66.221998    0.600000\n",
       "std     19.458222   18.582783    0.492366\n",
       "min     30.058822   30.603263    0.000000\n",
       "25%     50.919511   48.179205    0.000000\n",
       "50%     67.032988   67.682381    1.000000\n",
       "75%     80.212529   79.360605    1.000000\n",
       "max     99.827858   98.869436    1.000000"
      ]
     },
     "execution_count": 5,
     "metadata": {},
     "output_type": "execute_result"
    }
   ],
   "source": [
    "df.describe()"
   ]
  },
  {
   "cell_type": "markdown",
   "metadata": {
    "id": "eC2vttXIjFgw"
   },
   "source": [
    "### Plotting of Data"
   ]
  },
  {
   "cell_type": "code",
   "execution_count": 6,
   "metadata": {
    "colab": {
     "base_uri": "https://localhost:8080/",
     "height": 317
    },
    "executionInfo": {
     "elapsed": 721,
     "status": "ok",
     "timestamp": 1616055525064,
     "user": {
      "displayName": "Mouna Kacimi",
      "photoUrl": "",
      "userId": "13741257071130912570"
     },
     "user_tz": -60
    },
    "id": "cgQVZzaZjFgw",
    "outputId": "3e899b81-d0b6-4853-bf40-2f659f8ab883"
   },
   "outputs": [
    {
     "data": {
      "text/plain": [
       "<matplotlib.legend.Legend at 0x7fe01168ab20>"
      ]
     },
     "execution_count": 6,
     "metadata": {},
     "output_type": "execute_result"
    },
    {
     "data": {
      "image/png": "[encoded data removed]",
      "text/plain": [
       "<Figure size 432x288 with 1 Axes>"
      ]
     },
     "metadata": {
      "needs_background": "light"
     },
     "output_type": "display_data"
    }
   ],
   "source": [
    "pos , neg = (y==1).reshape(100,1) , (y==0).reshape(100,1)\n",
    "plt.scatter(X[pos[:,0],0],X[pos[:,0],1],c=\"r\",marker=\"+\")\n",
    "plt.scatter(X[neg[:,0],0],X[neg[:,0],1],marker=\"o\",s=10)\n",
    "plt.xlabel(\"Exam 1 score\")\n",
    "plt.ylabel(\"Exam 2 score\")\n",
    "plt.legend([\"Admitted\",\"Not admitted\"],loc=0)"
   ]
  },
  {
   "cell_type": "markdown",
   "metadata": {
    "id": "62VS9x6BjFgy"
   },
   "source": [
    "### Sigmoid function\n",
    "\n",
    "$ g(z) = \\frac{1}{(1+e^{-z})}$\n",
    "\n",
    "Implement, in the following, the Sigmoid function."
   ]
  },
  {
   "cell_type": "code",
   "execution_count": 7,
   "metadata": {
    "executionInfo": {
     "elapsed": 622,
     "status": "ok",
     "timestamp": 1616055585994,
     "user": {
      "displayName": "Mouna Kacimi",
      "photoUrl": "",
      "userId": "13741257071130912570"
     },
     "user_tz": -60
    },
    "id": "07T2p-VNjFgz"
   },
   "outputs": [],
   "source": [
    "def sigmoid(z):\n",
    "    \"\"\"\n",
    "    return the sigmoid of z\n",
    "    \"\"\"\n",
    "    \n",
    "    return 1/ (1 + np.exp(-z))"
   ]
  },
  {
   "cell_type": "markdown",
   "metadata": {
    "id": "jLlBopIPhkNU"
   },
   "source": [
    "Now you can test the sigmoid function using the following code. The expected value is 0.5"
   ]
  },
  {
   "cell_type": "markdown",
   "metadata": {
    "id": "JXnTPatZh7eC"
   },
   "source": []
  },
  {
   "cell_type": "code",
   "execution_count": 8,
   "metadata": {
    "colab": {
     "base_uri": "https://localhost:8080/"
    },
    "executionInfo": {
     "elapsed": 654,
     "status": "ok",
     "timestamp": 1616055590681,
     "user": {
      "displayName": "Mouna Kacimi",
      "photoUrl": "",
      "userId": "13741257071130912570"
     },
     "user_tz": -60
    },
    "id": "UzoJ_sPFjFgz",
    "outputId": "f559f7e0-81cf-4a0f-aa81-b7faded8dcfd"
   },
   "outputs": [
    {
     "data": {
      "text/plain": [
       "0.5"
      ]
     },
     "execution_count": 8,
     "metadata": {},
     "output_type": "execute_result"
    }
   ],
   "source": [
    "# testing the sigmoid function\n",
    "sigmoid(0)"
   ]
  },
  {
   "cell_type": "markdown",
   "metadata": {
    "id": "oCWcE8N9jFg0"
   },
   "source": [
    "### Compute the Cost Function and Gradient\n",
    "\n",
    "$J(\\Theta) = \\frac{1}{m} \\sum_{i=1}^{m} [ -y^{(i)}log(h_{\\Theta}(x^{(i)})) - (1 - y^{(i)})log(1 - (h_{\\Theta}(x^{(i)}))]$\n",
    "\n",
    "$ \\frac{\\partial J(\\Theta)}{\\partial \\Theta_j} = \\frac{1}{m} \\sum_{i=1}^{m} (h_{\\Theta}(x^{(i)}) - y^{(i)})x_j^{(i)}$\n",
    "\n",
    "Based on the above formulas seen in class, implement the cost function of the logistic regression model. \n"
   ]
  },
  {
   "cell_type": "code",
   "execution_count": 9,
   "metadata": {
    "executionInfo": {
     "elapsed": 721,
     "status": "ok",
     "timestamp": 1616055762336,
     "user": {
      "displayName": "Mouna Kacimi",
      "photoUrl": "",
      "userId": "13741257071130912570"
     },
     "user_tz": -60
    },
    "id": "Fgy6VcONjFg0"
   },
   "outputs": [],
   "source": [
    "def costFunction(theta, X, y):\n",
    "    \"\"\"\n",
    "    Takes in numpy array theta, x and y and return the logistic regression cost function and gradient\n",
    "    \"\"\"\n",
    "    \n",
    "    m=len(y)\n",
    "    \n",
    "   ####### Write your Code Here ######\n",
    "    predictions = sigmoid(np.dot(X,theta))\n",
    "    error = (-y * np.log(predictions)) - ((1-y)*np.log(1-predictions))\n",
    "\n",
    "    cost = 1/m * sum(error)\n",
    "    \n",
    "    grad = 1/m * np.dot(X.transpose(),(predictions - y))\n",
    "   ###################################\n",
    "    \n",
    "    return cost[0] , grad"
   ]
  },
  {
   "cell_type": "markdown",
   "metadata": {
    "id": "nqpEcm0xjFg1"
   },
   "source": [
    "### Feature scaling"
   ]
  },
  {
   "cell_type": "code",
   "execution_count": 10,
   "metadata": {
    "executionInfo": {
     "elapsed": 883,
     "status": "ok",
     "timestamp": 1616055791354,
     "user": {
      "displayName": "Mouna Kacimi",
      "photoUrl": "",
      "userId": "13741257071130912570"
     },
     "user_tz": -60
    },
    "id": "cJ3NdWNejFg1"
   },
   "outputs": [],
   "source": [
    "def featureNormalization(X):\n",
    "    \"\"\"\n",
    "    Take in numpy array of X values and return normalize X values,\n",
    "    the mean and standard deviation of each feature\n",
    "    \"\"\"\n",
    "    mean=np.mean(X,axis=0)\n",
    "    std=np.std(X,axis=0)\n",
    "    \n",
    "    X_norm = (X - mean)/std\n",
    "    \n",
    "    return X_norm , mean , std"
   ]
  },
  {
   "cell_type": "markdown",
   "metadata": {
    "id": "cvx9ok_1qirc"
   },
   "source": [
    "You can test now the cost function using the following code. If your implementation is correct the expected outcome should be as follows: \n",
    "\n",
    "Cost of initial theta is 0.693147180559946\n",
    "\n",
    "Gradient at initial theta (zeros): [[-0.1       ]\n",
    " [-0.28122914]\n",
    " [-0.25098615]]"
   ]
  },
  {
   "cell_type": "code",
   "execution_count": 11,
   "metadata": {
    "colab": {
     "base_uri": "https://localhost:8080/"
    },
    "executionInfo": {
     "elapsed": 640,
     "status": "ok",
     "timestamp": 1616055796919,
     "user": {
      "displayName": "Mouna Kacimi",
      "photoUrl": "",
      "userId": "13741257071130912570"
     },
     "user_tz": -60
    },
    "id": "nLDpyjV-jFg1",
    "outputId": "52997dd7-3e78-4914-d005-fe13c14babcb"
   },
   "outputs": [
    {
     "name": "stdout",
     "output_type": "stream",
     "text": [
      "Cost of initial theta is 0.693147180559946\n",
      "Gradient at initial theta (zeros): [[-0.1       ]\n",
      " [-0.28122914]\n",
      " [-0.25098615]]\n"
     ]
    }
   ],
   "source": [
    "m , n = X.shape[0], X.shape[1]\n",
    "X, X_mean, X_std = featureNormalization(X)\n",
    "X= np.append(np.ones((m,1)),X,axis=1)\n",
    "y=y.reshape(m,1)\n",
    "initial_theta = np.zeros((n+1,1))\n",
    "cost, grad= costFunction(initial_theta,X,y)\n",
    "print(\"Cost of initial theta is\",cost)\n",
    "print(\"Gradient at initial theta (zeros):\",grad)"
   ]
  },
  {
   "cell_type": "markdown",
   "metadata": {
    "id": "udPQb_jLjFg2"
   },
   "source": [
    "### Gradient Descent\n",
    "\n",
    "If you have done the exercises of lab2, you can take the code of the gradient descent that you have implemented and put it here. Otherwise it is a good exercised to do it now. \n",
    "\n"
   ]
  },
  {
   "cell_type": "code",
   "execution_count": 19,
   "metadata": {
    "executionInfo": {
     "elapsed": 643,
     "status": "ok",
     "timestamp": 1616055846883,
     "user": {
      "displayName": "Mouna Kacimi",
      "photoUrl": "",
      "userId": "13741257071130912570"
     },
     "user_tz": -60
    },
    "id": "INYhGLu2jFg3"
   },
   "outputs": [],
   "source": [
    "def gradientDescent(X,y,theta,alpha,num_iters):\n",
    "    \"\"\"\n",
    "    Take in numpy array X, y and theta and update theta by taking num_iters gradient steps\n",
    "    with learning rate of alpha\n",
    "    \n",
    "    return theta and the list of the cost of theta during each iteration\n",
    "    \"\"\"\n",
    "    \n",
    "    m=len(y)\n",
    "    J_history =[]\n",
    "    \n",
    "   ####### Write Your Code Here ####### \n",
    "\n",
    "    for i in range(num_iters):\n",
    "        cost, grad = costFunction(theta,X,y)\n",
    "        theta = theta - (alpha * grad)\n",
    "        J_history.append(cost)\n",
    "\n",
    "   ####################################\n",
    "    \n",
    "    return theta , J_history"
   ]
  },
  {
   "cell_type": "code",
   "execution_count": 20,
   "metadata": {
    "executionInfo": {
     "elapsed": 654,
     "status": "ok",
     "timestamp": 1616055856032,
     "user": {
      "displayName": "Mouna Kacimi",
      "photoUrl": "",
      "userId": "13741257071130912570"
     },
     "user_tz": -60
    },
    "id": "R_KsfPCkjFg4"
   },
   "outputs": [],
   "source": [
    "theta , J_history = gradientDescent(X,y,initial_theta,1,400)"
   ]
  },
  {
   "cell_type": "code",
   "execution_count": 21,
   "metadata": {
    "colab": {
     "base_uri": "https://localhost:8080/"
    },
    "executionInfo": {
     "elapsed": 641,
     "status": "ok",
     "timestamp": 1616055866261,
     "user": {
      "displayName": "Mouna Kacimi",
      "photoUrl": "",
      "userId": "13741257071130912570"
     },
     "user_tz": -60
    },
    "id": "srL1D9zVjFg5",
    "outputId": "c94c20c8-218d-4704-df7e-d8593c1488e7"
   },
   "outputs": [
    {
     "name": "stdout",
     "output_type": "stream",
     "text": [
      "Theta optimized by gradient descent: [[1.65947664]\n",
      " [3.8670477 ]\n",
      " [3.60347302]]\n",
      "The cost of the optimized theta: 0.20360044248226664\n"
     ]
    }
   ],
   "source": [
    "print(\"Theta optimized by gradient descent:\",theta)\n",
    "print(\"The cost of the optimized theta:\",J_history[-1])"
   ]
  },
  {
   "cell_type": "markdown",
   "metadata": {
    "id": "i0ah2la0jFg5"
   },
   "source": [
    "### Plotting of Cost Function"
   ]
  },
  {
   "cell_type": "code",
   "execution_count": 22,
   "metadata": {
    "colab": {
     "base_uri": "https://localhost:8080/",
     "height": 333
    },
    "executionInfo": {
     "elapsed": 998,
     "status": "ok",
     "timestamp": 1616055878185,
     "user": {
      "displayName": "Mouna Kacimi",
      "photoUrl": "",
      "userId": "13741257071130912570"
     },
     "user_tz": -60
    },
    "id": "feutUSS6jFg6",
    "outputId": "618f26a9-7cee-43e2-c888-e1547581cf84"
   },
   "outputs": [
    {
     "data": {
      "text/plain": [
       "Text(0.5, 1.0, 'Cost function using Gradient Descent')"
      ]
     },
     "execution_count": 22,
     "metadata": {
      "tags": []
     },
     "output_type": "execute_result"
    },
    {
     "data": {
      "image/png": "[encoded data removed]",
      "text/plain": [
       "<Figure size 432x288 with 1 Axes>"
      ]
     },
     "metadata": {
      "needs_background": "light",
      "tags": []
     },
     "output_type": "display_data"
    }
   ],
   "source": [
    "plt.plot(J_history)\n",
    "plt.xlabel(\"Iteration\")\n",
    "plt.ylabel(\"$J(\\Theta)$\")\n",
    "plt.title(\"Cost function using Gradient Descent\")"
   ]
  },
  {
   "cell_type": "markdown",
   "metadata": {
    "id": "6Qgxw3VujFg6"
   },
   "source": [
    "### Plotting the decision boundary\n",
    "\n",
    "From Machine Learning Resources:\n",
    "    \n",
    "$h_\\Theta(x) = g(z)$, where g is the sigmoid function and $z = \\Theta^Tx$\n",
    "\n",
    "Since $h_\\Theta(x) \\geq 0.5$ is interpreted as predicting class \"1\", $g(\\Theta^Tx) \\geq 0.5$ or $\\Theta^Tx \\geq 0$ predict class \"1\" \n",
    "\n",
    "$\\Theta_1 + \\Theta_2x_2 + \\Theta_3x_3 = 0$ is the decision boundary   \n",
    "\n",
    "Since, we plot $x_2$ against $x_3$, the boundary line will be the equation $ x_3 = \\frac{-(\\Theta_1+\\Theta_2x_2)}{\\Theta_3}$"
   ]
  },
  {
   "cell_type": "code",
   "execution_count": 23,
   "metadata": {
    "colab": {
     "base_uri": "https://localhost:8080/",
     "height": 317
    },
    "executionInfo": {
     "elapsed": 887,
     "status": "ok",
     "timestamp": 1616055886048,
     "user": {
      "displayName": "Mouna Kacimi",
      "photoUrl": "",
      "userId": "13741257071130912570"
     },
     "user_tz": -60
    },
    "id": "pJP96wvvjFg7",
    "outputId": "3babf7b8-0ad2-4194-aa08-2ad2809fc8f0"
   },
   "outputs": [
    {
     "data": {
      "text/plain": [
       "<matplotlib.legend.Legend at 0x7f06a2c99390>"
      ]
     },
     "execution_count": 23,
     "metadata": {
      "tags": []
     },
     "output_type": "execute_result"
    },
    {
     "data": {
      "image/png": "[encoded data removed]",
      "text/plain": [
       "<Figure size 432x288 with 1 Axes>"
      ]
     },
     "metadata": {
      "needs_background": "light",
      "tags": []
     },
     "output_type": "display_data"
    }
   ],
   "source": [
    "plt.scatter(X[pos[:,0],1],X[pos[:,0],2],c=\"r\",marker=\"+\",label=\"Admitted\")\n",
    "plt.scatter(X[neg[:,0],1],X[neg[:,0],2],c=\"b\",marker=\"x\",label=\"Not admitted\")\n",
    "x_value= np.array([np.min(X[:,1]),np.max(X[:,1])])\n",
    "y_value=-(theta[0] +theta[1]*x_value)/theta[2]\n",
    "plt.plot(x_value,y_value, \"g\")\n",
    "plt.xlabel(\"Exam 1 score\")\n",
    "plt.ylabel(\"Exam 2 score\")\n",
    "plt.legend(loc=0)"
   ]
  },
  {
   "cell_type": "markdown",
   "metadata": {
    "id": "i4UETcvKjFg8"
   },
   "source": [
    "### Prediction\n",
    "\n",
    "Write the code of the function that has as input X and the learned theta parameters and returns the predictions. "
   ]
  },
  {
   "cell_type": "code",
   "execution_count": 25,
   "metadata": {
    "executionInfo": {
     "elapsed": 629,
     "status": "ok",
     "timestamp": 1616055933454,
     "user": {
      "displayName": "Mouna Kacimi",
      "photoUrl": "",
      "userId": "13741257071130912570"
     },
     "user_tz": -60
    },
    "id": "8-rE7yZEjFg8"
   },
   "outputs": [],
   "source": [
    "def classifierPredict(theta,X):\n",
    "    \"\"\"\n",
    "    take in numpy array of theta and X and predict the class \n",
    "    \"\"\"\n",
    "   ####### Write Your Code Here ####### \n",
    "    predictions = X.dot(theta)\n",
    "   ####################################\n",
    "    \n",
    "    return predictions>0"
   ]
  },
  {
   "cell_type": "markdown",
   "metadata": {
    "id": "-PxK01HSnWn8"
   },
   "source": [
    "Now test the predictve model using the unlabeled data [45,85] . If your code is implemented correctly the admission should be of 0.7677628875792489"
   ]
  },
  {
   "cell_type": "code",
   "execution_count": 26,
   "metadata": {
    "colab": {
     "base_uri": "https://localhost:8080/"
    },
    "executionInfo": {
     "elapsed": 640,
     "status": "ok",
     "timestamp": 1616055985924,
     "user": {
      "displayName": "Mouna Kacimi",
      "photoUrl": "",
      "userId": "13741257071130912570"
     },
     "user_tz": -60
    },
    "id": "C1jyhVX7jFg9",
    "outputId": "df249abe-ed6a-4a80-8e74-b41a07c2f5b1"
   },
   "outputs": [
    {
     "name": "stdout",
     "output_type": "stream",
     "text": [
      "For a student with scores 45 and 85, we predict an admission probability of 0.7677628875792489\n"
     ]
    }
   ],
   "source": [
    "x_test = np.array([45,85])\n",
    "\n",
    "####### Write Your Code Here ####### \n",
    "x_test = (x_test - X_mean)/X_std\n",
    "x_test = np.append(np.ones(1),x_test)\n",
    "prob = sigmoid(x_test.dot(theta))\n",
    "####################################\n",
    "print(\"For a student with scores 45 and 85, we predict an admission probability of\",prob[0])"
   ]
  },
  {
   "cell_type": "markdown",
   "metadata": {
    "id": "Cx25zGdvjFg_"
   },
   "source": [
    "### Accuracy on the training set "
   ]
  },
  {
   "cell_type": "markdown",
   "metadata": {
    "id": "NbBZqkpJ8NYv"
   },
   "source": [
    "Test the accuracy on the training data, the obratined result should be :\n",
    "\n",
    "Train Accuracy: 89 %\n"
   ]
  },
  {
   "cell_type": "code",
   "execution_count": 27,
   "metadata": {
    "colab": {
     "base_uri": "https://localhost:8080/"
    },
    "executionInfo": {
     "elapsed": 642,
     "status": "ok",
     "timestamp": 1616056019266,
     "user": {
      "displayName": "Mouna Kacimi",
      "photoUrl": "",
      "userId": "13741257071130912570"
     },
     "user_tz": -60
    },
    "id": "1DwFux8BjFhA",
    "outputId": "00b60158-183a-42b6-b165-7c12ce898288"
   },
   "outputs": [
    {
     "name": "stdout",
     "output_type": "stream",
     "text": [
      "Train Accuracy: 89 %\n"
     ]
    }
   ],
   "source": [
    "p=classifierPredict(theta,X)\n",
    "\n",
    "########## Write Your Code Here ##########\n",
    "print(\"Train Accuracy:\", sum(p==y)[0],\"%\")\n",
    "##########################################\n",
    "\n"
   ]
  },
  {
   "cell_type": "markdown",
   "metadata": {
    "id": "dKxZns8NtSQ3"
   },
   "source": [
    "## Regularized Logistic Regression\n"
   ]
  },
  {
   "cell_type": "code",
   "execution_count": null,
   "metadata": {
    "id": "3Ai3ukZztYSl"
   },
   "outputs": [],
   "source": [
    "df=pd.read_csv(\"/content/drive/MyDrive/Colab Notebooks/acceptance.txt\", header=None)\n",
    "df.head()"
   ]
  },
  {
   "cell_type": "code",
   "execution_count": 29,
   "metadata": {
    "colab": {
     "base_uri": "https://localhost:8080/",
     "height": 320
    },
    "executionInfo": {
     "elapsed": 648,
     "status": "ok",
     "timestamp": 1616056033089,
     "user": {
      "displayName": "Mouna Kacimi",
      "photoUrl": "",
      "userId": "13741257071130912570"
     },
     "user_tz": -60
    },
    "id": "Z7N-xeWavkKK",
    "outputId": "f73d9545-8ec9-4412-8305-d5c4b9c31715"
   },
   "outputs": [
    {
     "data": {
      "text/html": [
       "<div>\n",
       "<style scoped>\n",
       "    .dataframe tbody tr th:only-of-type {\n",
       "        vertical-align: middle;\n",
       "    }\n",
       "\n",
       "    .dataframe tbody tr th {\n",
       "        vertical-align: top;\n",
       "    }\n",
       "\n",
       "    .dataframe thead th {\n",
       "        text-align: right;\n",
       "    }\n",
       "</style>\n",
       "<table border=\"1\" class=\"dataframe\">\n",
       "  <thead>\n",
       "    <tr style=\"text-align: right;\">\n",
       "      <th></th>\n",
       "      <th>0</th>\n",
       "      <th>1</th>\n",
       "      <th>2</th>\n",
       "    </tr>\n",
       "  </thead>\n",
       "  <tbody>\n",
       "    <tr>\n",
       "      <th>count</th>\n",
       "      <td>118.000000</td>\n",
       "      <td>118.000000</td>\n",
       "      <td>118.000000</td>\n",
       "    </tr>\n",
       "    <tr>\n",
       "      <th>mean</th>\n",
       "      <td>0.054779</td>\n",
       "      <td>0.183102</td>\n",
       "      <td>0.491525</td>\n",
       "    </tr>\n",
       "    <tr>\n",
       "      <th>std</th>\n",
       "      <td>0.496654</td>\n",
       "      <td>0.519743</td>\n",
       "      <td>0.502060</td>\n",
       "    </tr>\n",
       "    <tr>\n",
       "      <th>min</th>\n",
       "      <td>-0.830070</td>\n",
       "      <td>-0.769740</td>\n",
       "      <td>0.000000</td>\n",
       "    </tr>\n",
       "    <tr>\n",
       "      <th>25%</th>\n",
       "      <td>-0.372120</td>\n",
       "      <td>-0.254385</td>\n",
       "      <td>0.000000</td>\n",
       "    </tr>\n",
       "    <tr>\n",
       "      <th>50%</th>\n",
       "      <td>-0.006336</td>\n",
       "      <td>0.213455</td>\n",
       "      <td>0.000000</td>\n",
       "    </tr>\n",
       "    <tr>\n",
       "      <th>75%</th>\n",
       "      <td>0.478970</td>\n",
       "      <td>0.646562</td>\n",
       "      <td>1.000000</td>\n",
       "    </tr>\n",
       "    <tr>\n",
       "      <th>max</th>\n",
       "      <td>1.070900</td>\n",
       "      <td>1.108900</td>\n",
       "      <td>1.000000</td>\n",
       "    </tr>\n",
       "  </tbody>\n",
       "</table>\n",
       "</div>"
      ],
      "text/plain": [
       "                0           1           2\n",
       "count  118.000000  118.000000  118.000000\n",
       "mean     0.054779    0.183102    0.491525\n",
       "std      0.496654    0.519743    0.502060\n",
       "min     -0.830070   -0.769740    0.000000\n",
       "25%     -0.372120   -0.254385    0.000000\n",
       "50%     -0.006336    0.213455    0.000000\n",
       "75%      0.478970    0.646562    1.000000\n",
       "max      1.070900    1.108900    1.000000"
      ]
     },
     "execution_count": 29,
     "metadata": {
      "tags": []
     },
     "output_type": "execute_result"
    }
   ],
   "source": [
    "df.describe()"
   ]
  },
  {
   "cell_type": "code",
   "execution_count": 31,
   "metadata": {
    "executionInfo": {
     "elapsed": 634,
     "status": "ok",
     "timestamp": 1616056042477,
     "user": {
      "displayName": "Mouna Kacimi",
      "photoUrl": "",
      "userId": "13741257071130912570"
     },
     "user_tz": -60
    },
    "id": "T1kjM62Yvq6j"
   },
   "outputs": [],
   "source": [
    "X=df.iloc[:,:-1].values\n",
    "y=df.iloc[:,-1].values"
   ]
  },
  {
   "cell_type": "markdown",
   "metadata": {
    "id": "0tmkZv2Lv2O3"
   },
   "source": [
    "### Plotting of the data"
   ]
  },
  {
   "cell_type": "code",
   "execution_count": 32,
   "metadata": {
    "colab": {
     "base_uri": "https://localhost:8080/",
     "height": 317
    },
    "executionInfo": {
     "elapsed": 961,
     "status": "ok",
     "timestamp": 1616056051547,
     "user": {
      "displayName": "Mouna Kacimi",
      "photoUrl": "",
      "userId": "13741257071130912570"
     },
     "user_tz": -60
    },
    "id": "vNchBbzKv3jq",
    "outputId": "1064edf1-9ff4-4cd7-9213-128794284c36"
   },
   "outputs": [
    {
     "data": {
      "text/plain": [
       "<matplotlib.legend.Legend at 0x7f06a2c3bb10>"
      ]
     },
     "execution_count": 32,
     "metadata": {
      "tags": []
     },
     "output_type": "execute_result"
    },
    {
     "data": {
      "image/png": "[encoded data removed]",
      "text/plain": [
       "<Figure size 432x288 with 1 Axes>"
      ]
     },
     "metadata": {
      "needs_background": "light",
      "tags": []
     },
     "output_type": "display_data"
    }
   ],
   "source": [
    "pos , neg = (y==1).reshape(118,1) , (y==0).reshape(118,1)\n",
    "plt.scatter(X[pos[:,0],0],X[pos[:,0],1],c=\"r\",marker=\"+\")\n",
    "plt.scatter(X[neg[:,0],0],X[neg[:,0],1],marker=\"o\",s=10)\n",
    "plt.xlabel(\"Test 1\")\n",
    "plt.ylabel(\"Test 2\")\n",
    "plt.legend([\"Accepted\",\"Rejected\"],loc=0)"
   ]
  },
  {
   "cell_type": "markdown",
   "metadata": {
    "id": "Wu8qGd9rwJIS"
   },
   "source": [
    "### Feature Mapping\n",
    "\n",
    "with k variables and degrees of n, the number of polynomial terms:\n",
    "\n",
    "$ {k+ n \\choose n}$"
   ]
  },
  {
   "cell_type": "code",
   "execution_count": 33,
   "metadata": {
    "executionInfo": {
     "elapsed": 680,
     "status": "ok",
     "timestamp": 1616056058537,
     "user": {
      "displayName": "Mouna Kacimi",
      "photoUrl": "",
      "userId": "13741257071130912570"
     },
     "user_tz": -60
    },
    "id": "HsbByRgAv9OG"
   },
   "outputs": [],
   "source": [
    "def mapFeature(x1,x2,degree):\n",
    "    \"\"\"\n",
    "    take in numpy array of x1 and x2, return all polynomial terms up to the given degree\n",
    "    \"\"\"\n",
    "    out = np.ones(len(x1)).reshape(len(x1),1)\n",
    "    for i in range(1,degree+1):\n",
    "        for j in range(i+1):\n",
    "            terms= (x1**(i-j) * x2**j).reshape(len(x1),1)\n",
    "            out= np.hstack((out,terms))\n",
    "    return out"
   ]
  },
  {
   "cell_type": "code",
   "execution_count": 34,
   "metadata": {
    "executionInfo": {
     "elapsed": 700,
     "status": "ok",
     "timestamp": 1616056063567,
     "user": {
      "displayName": "Mouna Kacimi",
      "photoUrl": "",
      "userId": "13741257071130912570"
     },
     "user_tz": -60
    },
    "id": "ZDoAZ0Zyw2wh"
   },
   "outputs": [],
   "source": [
    "X = mapFeature(X[:,0], X[:,1],6)"
   ]
  },
  {
   "cell_type": "markdown",
   "metadata": {
    "id": "0XO9jKOxx7Ol"
   },
   "source": [
    "### Computing Regularize Cost Function and Gradient\n",
    "\n",
    "$J(\\Theta) = \\frac{1}{m} \\sum_{i=1}^{m} [ -y^{(i)}log(h_{\\Theta}(x^{(i)})) - (1 - y^{(i)})log(1 - (h_{\\Theta}(x^{(i)}))] + \\frac{\\lambda}{2m} \\sum_{j=1}^n \\Theta_j^2$\n",
    "\n",
    "$ \\frac{\\partial J(\\Theta)}{\\partial \\Theta_j} = \\frac{1}{m} \\sum_{i=1}^{m} (h_{\\Theta}(x^{(i)}) - y^{(i)})x_j^{(i)}$ for $j=0$\n",
    "\n",
    "$ \\frac{\\partial J(\\Theta)}{\\partial \\Theta_j} = \\frac{1}{m} \\sum_{i=1}^{m} (h_{\\Theta}(x^{(i)}) - y^{(i)})x_j^{(i)} + \\frac{\\lambda}{m}\\Theta_j$ for $j\\geq 1$"
   ]
  },
  {
   "cell_type": "code",
   "execution_count": 36,
   "metadata": {
    "executionInfo": {
     "elapsed": 665,
     "status": "ok",
     "timestamp": 1616056176847,
     "user": {
      "displayName": "Mouna Kacimi",
      "photoUrl": "",
      "userId": "13741257071130912570"
     },
     "user_tz": -60
    },
    "id": "t2Y838TsxFpk"
   },
   "outputs": [],
   "source": [
    "def costFunctionReg(theta, X, y ,Lambda):\n",
    "    \"\"\"\n",
    "    Take in numpy array of theta, X, and y to return the regularize cost function and gradient\n",
    "    of a logistic regression\n",
    "    \"\"\"\n",
    "    \n",
    "    m=len(y)\n",
    "    y=y[:,np.newaxis]\n",
    "    predictions = sigmoid(X @ theta)\n",
    "    ########### Write Your Code Here ########\n",
    "    error = (-y * np.log(predictions)) - ((1-y)*np.log(1-predictions))\n",
    "    cost = 1/m * sum(error)\n",
    "    regCost= cost + Lambda/(2*m) * sum(theta**2)\n",
    "    \n",
    "    # compute gradient\n",
    "    j_0= 1/m * (X.transpose() @ (predictions - y))[0]\n",
    "    j_1 = 1/m * (X.transpose() @ (predictions - y))[1:] + (Lambda/m)* theta[1:]\n",
    "    grad= np.vstack((j_0[:,np.newaxis],j_1)) \n",
    "\n",
    "    #########################################\n",
    "\n",
    "    return cost[0], grad"
   ]
  },
  {
   "cell_type": "markdown",
   "metadata": {
    "id": "Tyj_x0gPy0mI"
   },
   "source": [
    "You can now test the cost function by running the following code. The result should be:\n",
    "\n",
    "Cost at initial theta (zeros): 0.6931471805599461"
   ]
  },
  {
   "cell_type": "code",
   "execution_count": 37,
   "metadata": {
    "executionInfo": {
     "elapsed": 753,
     "status": "ok",
     "timestamp": 1616056186070,
     "user": {
      "displayName": "Mouna Kacimi",
      "photoUrl": "",
      "userId": "13741257071130912570"
     },
     "user_tz": -60
    },
    "id": "nh5zDu2Ey40x"
   },
   "outputs": [],
   "source": [
    "# Initialize fitting parameters\n",
    "initial_theta = np.zeros((X.shape[1], 1))\n",
    "\n",
    "# Set regularization parameter lambda to 1\n",
    "Lambda = 1\n",
    "\n",
    "#Compute and display initial cost and gradient for regularized logistic regression\n",
    "cost, grad=costFunctionReg(initial_theta, X, y, Lambda)"
   ]
  },
  {
   "cell_type": "code",
   "execution_count": 38,
   "metadata": {
    "colab": {
     "base_uri": "https://localhost:8080/"
    },
    "executionInfo": {
     "elapsed": 687,
     "status": "ok",
     "timestamp": 1616056190509,
     "user": {
      "displayName": "Mouna Kacimi",
      "photoUrl": "",
      "userId": "13741257071130912570"
     },
     "user_tz": -60
    },
    "id": "iyhm9y0Wy6DK",
    "outputId": "fb21743f-1e02-42d9-8f78-0f29e69448f8"
   },
   "outputs": [
    {
     "name": "stdout",
     "output_type": "stream",
     "text": [
      "Cost at initial theta (zeros): 0.6931471805599461\n"
     ]
    }
   ],
   "source": [
    "print(\"Cost at initial theta (zeros):\",cost)"
   ]
  },
  {
   "cell_type": "code",
   "execution_count": 39,
   "metadata": {
    "executionInfo": {
     "elapsed": 551,
     "status": "ok",
     "timestamp": 1616056197774,
     "user": {
      "displayName": "Mouna Kacimi",
      "photoUrl": "",
      "userId": "13741257071130912570"
     },
     "user_tz": -60
    },
    "id": "R9XYnsYIzaqd"
   },
   "outputs": [],
   "source": [
    "def gradientDescent(X,y,theta,alpha,num_iters,Lambda):\n",
    "    \"\"\"\n",
    "    Take in numpy array X, y and theta and update theta by taking num_iters gradient steps\n",
    "    with learning rate of alpha\n",
    "    \n",
    "    return theta and the list of the cost of theta during each iteration\n",
    "    \"\"\"\n",
    "    \n",
    "    m=len(y)\n",
    "    J_history =[]\n",
    "    \n",
    "    for i in range(num_iters):\n",
    "        cost, grad = costFunctionReg(theta,X,y,Lambda)\n",
    "        theta = theta - (alpha * grad)\n",
    "        J_history.append(cost)\n",
    "    \n",
    "    return theta , J_history"
   ]
  },
  {
   "cell_type": "markdown",
   "metadata": {
    "id": "HdeQHCFazs8I"
   },
   "source": [
    "Run the following code to test the gradient descent"
   ]
  },
  {
   "cell_type": "code",
   "execution_count": 40,
   "metadata": {
    "executionInfo": {
     "elapsed": 686,
     "status": "ok",
     "timestamp": 1616056202752,
     "user": {
      "displayName": "Mouna Kacimi",
      "photoUrl": "",
      "userId": "13741257071130912570"
     },
     "user_tz": -60
    },
    "id": "IspazL7ozndZ"
   },
   "outputs": [],
   "source": [
    "theta , J_history = gradientDescent(X,y,initial_theta,1,800,0.2)"
   ]
  },
  {
   "cell_type": "code",
   "execution_count": 41,
   "metadata": {
    "colab": {
     "base_uri": "https://localhost:8080/"
    },
    "executionInfo": {
     "elapsed": 713,
     "status": "ok",
     "timestamp": 1616056208210,
     "user": {
      "displayName": "Mouna Kacimi",
      "photoUrl": "",
      "userId": "13741257071130912570"
     },
     "user_tz": -60
    },
    "id": "oRyf6b2qziJL",
    "outputId": "c3ee988d-1393-4adb-a98d-0fb972ac7b1c"
   },
   "outputs": [
    {
     "name": "stdout",
     "output_type": "stream",
     "text": [
      "The regularized theta using ridge regression:\n",
      " [[ 2.25319932]\n",
      " [ 1.44552306]\n",
      " [ 2.33283911]\n",
      " [-3.57008233]\n",
      " [-2.35002884]\n",
      " [-3.07090829]\n",
      " [ 0.50119267]\n",
      " [-0.88407626]\n",
      " [-0.69606495]\n",
      " [-0.22204243]\n",
      " [-2.69560917]\n",
      " [ 0.04161168]\n",
      " [-1.31573798]\n",
      " [-0.80286232]\n",
      " [-2.23101395]\n",
      " [-0.39638083]\n",
      " [-0.43758167]\n",
      " [ 0.09476652]\n",
      " [-0.69300577]\n",
      " [-0.78996079]\n",
      " [-0.45416815]\n",
      " [-2.01051679]\n",
      " [ 0.16446857]\n",
      " [-0.59855483]\n",
      " [ 0.11471778]\n",
      " [-0.73960173]\n",
      " [-0.52044034]\n",
      " [-1.38532427]]\n"
     ]
    }
   ],
   "source": [
    "print(\"The regularized theta using ridge regression:\\n\",theta)"
   ]
  },
  {
   "cell_type": "markdown",
   "metadata": {
    "id": "8u5QT39yz0j-"
   },
   "source": [
    "### Plotting of Cost function\n"
   ]
  },
  {
   "cell_type": "code",
   "execution_count": 42,
   "metadata": {
    "colab": {
     "base_uri": "https://localhost:8080/",
     "height": 333
    },
    "executionInfo": {
     "elapsed": 872,
     "status": "ok",
     "timestamp": 1616056214519,
     "user": {
      "displayName": "Mouna Kacimi",
      "photoUrl": "",
      "userId": "13741257071130912570"
     },
     "user_tz": -60
    },
    "id": "8FJu_gZBz12l",
    "outputId": "a66dd0e4-0a06-4c45-9714-4cb7f802c50d"
   },
   "outputs": [
    {
     "data": {
      "text/plain": [
       "Text(0.5, 1.0, 'Cost function using Gradient Descent')"
      ]
     },
     "execution_count": 42,
     "metadata": {
      "tags": []
     },
     "output_type": "execute_result"
    },
    {
     "data": {
      "image/png": "[encoded data removed]",
      "text/plain": [
       "<Figure size 432x288 with 1 Axes>"
      ]
     },
     "metadata": {
      "needs_background": "light",
      "tags": []
     },
     "output_type": "display_data"
    }
   ],
   "source": [
    "plt.plot(J_history)\n",
    "plt.xlabel(\"Iteration\")\n",
    "plt.ylabel(\"$J(\\Theta)$\")\n",
    "plt.title(\"Cost function using Gradient Descent\")"
   ]
  },
  {
   "cell_type": "markdown",
   "metadata": {
    "id": "J-AioHDez9hL"
   },
   "source": [
    "### Plot Decision Boundary"
   ]
  },
  {
   "cell_type": "code",
   "execution_count": 44,
   "metadata": {
    "executionInfo": {
     "elapsed": 626,
     "status": "ok",
     "timestamp": 1616056223577,
     "user": {
      "displayName": "Mouna Kacimi",
      "photoUrl": "",
      "userId": "13741257071130912570"
     },
     "user_tz": -60
    },
    "id": "l1T2TqWgz--a"
   },
   "outputs": [],
   "source": [
    "def mapFeaturePlot(x1,x2,degree):\n",
    "    \"\"\"\n",
    "    take in numpy array of x1 and x2, return all polynomial terms up to the given degree\n",
    "    \"\"\"\n",
    "    out = np.ones(1)\n",
    "    for i in range(1,degree+1):\n",
    "        for j in range(i+1):\n",
    "            terms= (x1**(i-j) * x2**j)\n",
    "            out= np.hstack((out,terms))\n",
    "    return out"
   ]
  },
  {
   "cell_type": "code",
   "execution_count": 45,
   "metadata": {
    "colab": {
     "base_uri": "https://localhost:8080/",
     "height": 321
    },
    "executionInfo": {
     "elapsed": 1512,
     "status": "ok",
     "timestamp": 1616056226920,
     "user": {
      "displayName": "Mouna Kacimi",
      "photoUrl": "",
      "userId": "13741257071130912570"
     },
     "user_tz": -60
    },
    "id": "bej04CXC0D31",
    "outputId": "6e526fbd-3a37-4393-d6c2-fb119cac1fec"
   },
   "outputs": [
    {
     "data": {
      "text/plain": [
       "<matplotlib.legend.Legend at 0x7f06a571dfd0>"
      ]
     },
     "execution_count": 45,
     "metadata": {
      "tags": []
     },
     "output_type": "execute_result"
    },
    {
     "data": {
      "image/png": "[encoded data removed]",
      "text/plain": [
       "<Figure size 432x288 with 1 Axes>"
      ]
     },
     "metadata": {
      "needs_background": "light",
      "tags": []
     },
     "output_type": "display_data"
    }
   ],
   "source": [
    "plt.scatter(X[pos[:,0],1],X[pos[:,0],2],c=\"r\",marker=\"+\",label=\"Admitted\")\n",
    "plt.scatter(X[neg[:,0],1],X[neg[:,0],2],c=\"b\",marker=\"x\",label=\"Not admitted\")\n",
    "\n",
    "# Plotting decision boundary\n",
    "\n",
    "u_vals = np.linspace(-1,1.5,50)\n",
    "v_vals= np.linspace(-1,1.5,50)\n",
    "z=np.zeros((len(u_vals),len(v_vals)))\n",
    "for i in range(len(u_vals)):\n",
    "    for j in range(len(v_vals)):\n",
    "        z[i,j] =mapFeaturePlot(u_vals[i],v_vals[j],6) @ theta \n",
    "\n",
    "plt.contour(u_vals,v_vals,z.T,0)\n",
    "plt.xlabel(\"Exam 1 score\")\n",
    "plt.ylabel(\"Exam 2 score\")\n",
    "plt.legend(loc=0)"
   ]
  },
  {
   "cell_type": "markdown",
   "metadata": {
    "id": "hGELjVGq0Wwn"
   },
   "source": [
    "### Accuracy of model\n",
    "\n",
    "Run the following code to test the accuracy of the model on the training data. If the implementation is right, the expected outcome should be:\n",
    "\n",
    "Train Accuracy: 83.05084745762711 %"
   ]
  },
  {
   "cell_type": "code",
   "execution_count": 46,
   "metadata": {
    "executionInfo": {
     "elapsed": 641,
     "status": "ok",
     "timestamp": 1616056233938,
     "user": {
      "displayName": "Mouna Kacimi",
      "photoUrl": "",
      "userId": "13741257071130912570"
     },
     "user_tz": -60
    },
    "id": "Q8OzL3iD0akn"
   },
   "outputs": [],
   "source": [
    "def classifierPredict(theta,X):\n",
    "    \"\"\"\n",
    "    take in numpy array of theta and X and predict the class \n",
    "    \"\"\"\n",
    "    predictions = X.dot(theta)\n",
    "    \n",
    "    return predictions>0"
   ]
  },
  {
   "cell_type": "code",
   "execution_count": 47,
   "metadata": {
    "colab": {
     "base_uri": "https://localhost:8080/"
    },
    "executionInfo": {
     "elapsed": 643,
     "status": "ok",
     "timestamp": 1616056237496,
     "user": {
      "displayName": "Mouna Kacimi",
      "photoUrl": "",
      "userId": "13741257071130912570"
     },
     "user_tz": -60
    },
    "id": "JFiA2C5a0d5K",
    "outputId": "f1959b30-3f3c-490e-f75a-7cdde277acc1"
   },
   "outputs": [
    {
     "name": "stdout",
     "output_type": "stream",
     "text": [
      "Train Accuracy: 83.05084745762711 %\n"
     ]
    }
   ],
   "source": [
    "p=classifierPredict(theta,X)\n",
    "print(\"Train Accuracy:\", (sum(p==y[:,np.newaxis])/len(y) *100)[0],\"%\")"
   ]
  }
 ],
 "metadata": {
  "colab": {
   "collapsed_sections": [],
   "name": "Lab3_Solution.ipynb",
   "provenance": [
    {
     "file_id": "1a5hwF4tMj56lHKB6NopN6VOBUyB56Y8u",
     "timestamp": 1615293995212
    }
   ]
  },
  "kernelspec": {
   "display_name": "Python 3",
   "language": "python",
   "name": "python3"
  },
  "language_info": {
   "codemirror_mode": {
    "name": "ipython",
    "version": 3
   },
   "file_extension": ".py",
   "mimetype": "text/x-python",
   "name": "python",
   "nbconvert_exporter": "python",
   "pygments_lexer": "ipython3",
   "version": "3.8.5"
  }
 },
 "nbformat": 4,
 "nbformat_minor": 1
}
