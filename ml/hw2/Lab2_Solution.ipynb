{
 "cells": [
  {
   "cell_type": "markdown",
   "metadata": {
    "id": "KNfPWhgmmH0R"
   },
   "source": [
    "#Lab2: Implementing Linear Regression with One and Multiple Variables \n",
    "\n",
    "In this lab, you are going to learn how to implement a linear regression model using the gradient decent algorithm.\n",
    "\n",
    "## 1) Linear Regression with One Variable \n"
   ]
  },
  {
   "cell_type": "code",
   "execution_count": 30,
   "metadata": {
    "executionInfo": {
     "elapsed": 853,
     "status": "ok",
     "timestamp": 1615294814508,
     "user": {
      "displayName": "Mouna Kacimi",
      "photoUrl": "",
      "userId": "13741257071130912570"
     },
     "user_tz": -60
    },
    "id": "sdwcUUvcm0jE"
   },
   "outputs": [],
   "source": [
    "import numpy as np\n",
    "import matplotlib.pyplot as plt\n",
    "import pandas as pd"
   ]
  },
  {
   "cell_type": "code",
   "execution_count": 31,
   "metadata": {
    "executionInfo": {
     "elapsed": 1506,
     "status": "ok",
     "timestamp": 1615294820644,
     "user": {
      "displayName": "Mouna Kacimi",
      "photoUrl": "",
      "userId": "13741257071130912570"
     },
     "user_tz": -60
    },
    "id": "p3fgA-O4xI9x"
   },
   "outputs": [],
   "source": [
    "data=pd.read_csv(\"Uni_linear.txt\", header=None)"
   ]
  },
  {
   "cell_type": "code",
   "execution_count": 32,
   "metadata": {
    "colab": {
     "base_uri": "https://localhost:8080/",
     "height": 206
    },
    "executionInfo": {
     "elapsed": 696,
     "status": "ok",
     "timestamp": 1615294823206,
     "user": {
      "displayName": "Mouna Kacimi",
      "photoUrl": "",
      "userId": "13741257071130912570"
     },
     "user_tz": -60
    },
    "id": "MJVttJdXxSbU",
    "outputId": "6e990050-18cb-40f2-a982-ca1248054f02"
   },
   "outputs": [
    {
     "data": {
      "text/html": [
       "<div>\n",
       "<style scoped>\n",
       "    .dataframe tbody tr th:only-of-type {\n",
       "        vertical-align: middle;\n",
       "    }\n",
       "\n",
       "    .dataframe tbody tr th {\n",
       "        vertical-align: top;\n",
       "    }\n",
       "\n",
       "    .dataframe thead th {\n",
       "        text-align: right;\n",
       "    }\n",
       "</style>\n",
       "<table border=\"1\" class=\"dataframe\">\n",
       "  <thead>\n",
       "    <tr style=\"text-align: right;\">\n",
       "      <th></th>\n",
       "      <th>0</th>\n",
       "      <th>1</th>\n",
       "    </tr>\n",
       "  </thead>\n",
       "  <tbody>\n",
       "    <tr>\n",
       "      <th>0</th>\n",
       "      <td>6.1101</td>\n",
       "      <td>17.5920</td>\n",
       "    </tr>\n",
       "    <tr>\n",
       "      <th>1</th>\n",
       "      <td>5.5277</td>\n",
       "      <td>9.1302</td>\n",
       "    </tr>\n",
       "    <tr>\n",
       "      <th>2</th>\n",
       "      <td>8.5186</td>\n",
       "      <td>13.6620</td>\n",
       "    </tr>\n",
       "    <tr>\n",
       "      <th>3</th>\n",
       "      <td>7.0032</td>\n",
       "      <td>11.8540</td>\n",
       "    </tr>\n",
       "    <tr>\n",
       "      <th>4</th>\n",
       "      <td>5.8598</td>\n",
       "      <td>6.8233</td>\n",
       "    </tr>\n",
       "  </tbody>\n",
       "</table>\n",
       "</div>"
      ],
      "text/plain": [
       "        0        1\n",
       "0  6.1101  17.5920\n",
       "1  5.5277   9.1302\n",
       "2  8.5186  13.6620\n",
       "3  7.0032  11.8540\n",
       "4  5.8598   6.8233"
      ]
     },
     "execution_count": 32,
     "metadata": {},
     "output_type": "execute_result"
    }
   ],
   "source": [
    "data.head()"
   ]
  },
  {
   "cell_type": "code",
   "execution_count": 33,
   "metadata": {
    "id": "j91dxlQIxWgp"
   },
   "outputs": [
    {
     "data": {
      "text/html": [
       "<div>\n",
       "<style scoped>\n",
       "    .dataframe tbody tr th:only-of-type {\n",
       "        vertical-align: middle;\n",
       "    }\n",
       "\n",
       "    .dataframe tbody tr th {\n",
       "        vertical-align: top;\n",
       "    }\n",
       "\n",
       "    .dataframe thead th {\n",
       "        text-align: right;\n",
       "    }\n",
       "</style>\n",
       "<table border=\"1\" class=\"dataframe\">\n",
       "  <thead>\n",
       "    <tr style=\"text-align: right;\">\n",
       "      <th></th>\n",
       "      <th>0</th>\n",
       "      <th>1</th>\n",
       "    </tr>\n",
       "  </thead>\n",
       "  <tbody>\n",
       "    <tr>\n",
       "      <th>count</th>\n",
       "      <td>97.000000</td>\n",
       "      <td>97.000000</td>\n",
       "    </tr>\n",
       "    <tr>\n",
       "      <th>mean</th>\n",
       "      <td>8.159800</td>\n",
       "      <td>5.839135</td>\n",
       "    </tr>\n",
       "    <tr>\n",
       "      <th>std</th>\n",
       "      <td>3.869884</td>\n",
       "      <td>5.510262</td>\n",
       "    </tr>\n",
       "    <tr>\n",
       "      <th>min</th>\n",
       "      <td>5.026900</td>\n",
       "      <td>-2.680700</td>\n",
       "    </tr>\n",
       "    <tr>\n",
       "      <th>25%</th>\n",
       "      <td>5.707700</td>\n",
       "      <td>1.986900</td>\n",
       "    </tr>\n",
       "    <tr>\n",
       "      <th>50%</th>\n",
       "      <td>6.589400</td>\n",
       "      <td>4.562300</td>\n",
       "    </tr>\n",
       "    <tr>\n",
       "      <th>75%</th>\n",
       "      <td>8.578100</td>\n",
       "      <td>7.046700</td>\n",
       "    </tr>\n",
       "    <tr>\n",
       "      <th>max</th>\n",
       "      <td>22.203000</td>\n",
       "      <td>24.147000</td>\n",
       "    </tr>\n",
       "  </tbody>\n",
       "</table>\n",
       "</div>"
      ],
      "text/plain": [
       "               0          1\n",
       "count  97.000000  97.000000\n",
       "mean    8.159800   5.839135\n",
       "std     3.869884   5.510262\n",
       "min     5.026900  -2.680700\n",
       "25%     5.707700   1.986900\n",
       "50%     6.589400   4.562300\n",
       "75%     8.578100   7.046700\n",
       "max    22.203000  24.147000"
      ]
     },
     "execution_count": 33,
     "metadata": {},
     "output_type": "execute_result"
    }
   ],
   "source": [
    "data.describe()"
   ]
  },
  {
   "cell_type": "code",
   "execution_count": 34,
   "metadata": {
    "id": "p9qxo6jLxclL"
   },
   "outputs": [
    {
     "data": {
      "text/plain": [
       "Text(0.5, 1.0, 'Profit Prediction')"
      ]
     },
     "execution_count": 34,
     "metadata": {},
     "output_type": "execute_result"
    },
    {
     "data": {
      "image/png": "[encoded data removed]",
      "text/plain": [
       "<Figure size 432x288 with 1 Axes>"
      ]
     },
     "metadata": {
      "needs_background": "light"
     },
     "output_type": "display_data"
    }
   ],
   "source": [
    "plt.scatter(data[0],data[1])\n",
    "plt.xticks(np.arange(5,30,step=5))\n",
    "plt.yticks(np.arange(-5,30,step=5))\n",
    "plt.xlabel(\"Population of City (10,000s)\")\n",
    "plt.ylabel(\"Profit ($10,000\")\n",
    "plt.title(\"Profit Prediction\")"
   ]
  },
  {
   "cell_type": "markdown",
   "metadata": {
    "id": "3lk0uleWxoLQ"
   },
   "source": [
    "### Compute the Cost Function $J(\\Theta)$\n",
    "\n",
    "$J(\\Theta) = \\frac{1}{2m} \\sum_{i=1}^m (h_\\Theta(x^{(i)}) - y^{(i)} )^2$"
   ]
  },
  {
   "cell_type": "code",
   "execution_count": 35,
   "metadata": {
    "executionInfo": {
     "elapsed": 660,
     "status": "ok",
     "timestamp": 1615294875755,
     "user": {
      "displayName": "Mouna Kacimi",
      "photoUrl": "",
      "userId": "13741257071130912570"
     },
     "user_tz": -60
    },
    "id": "ALgKLfPYxu_4"
   },
   "outputs": [],
   "source": [
    "def computeCost(X,y,theta):\n",
    "    \"\"\"\n",
    "    Take in a numpy array X,y, theta and generate the cost function of using theta as parameter\n",
    "    in a linear regression model\n",
    "    \"\"\"\n",
    "    m=len(y) \n",
    "    predictions=X.dot(theta)\n",
    "    square_err=(predictions - y)**2\n",
    "    \n",
    "    return 1/(2*m) * np.sum(square_err)"
   ]
  },
  {
   "cell_type": "markdown",
   "metadata": {
    "id": "ktqs2y2yn4TG"
   },
   "source": [
    "Now you are going to test your cost function. You should get X and y from the dataset above. Then test the cost function with 0 as initial value of all Thetas. When you build the vector X do not forget to add the feature for the bias parameter $x_0=1$\n",
    ". The expected value of the cost is  32.072733877455676"
   ]
  },
  {
   "cell_type": "code",
   "execution_count": 36,
   "metadata": {
    "colab": {
     "base_uri": "https://localhost:8080/"
    },
    "executionInfo": {
     "elapsed": 753,
     "status": "ok",
     "timestamp": 1615294976952,
     "user": {
      "displayName": "Mouna Kacimi",
      "photoUrl": "",
      "userId": "13741257071130912570"
     },
     "user_tz": -60
    },
    "id": "ulC6S3-izLjb",
    "outputId": "4a558b84-a4d4-4a16-ab8b-27f45ecea9e2"
   },
   "outputs": [
    {
     "name": "stdout",
     "output_type": "stream",
     "text": [
      "[[3.09478464e+02]\n",
      " [8.33605520e+01]\n",
      " [1.86650244e+02]\n",
      " [1.40517316e+02]\n",
      " [4.65574229e+01]\n",
      " [1.41276996e+02]\n",
      " [1.89077129e+01]\n",
      " [1.44000000e+02]\n",
      " [4.35428417e+01]\n",
      " [1.45664356e+01]\n",
      " [1.05768048e+01]\n",
      " [2.40405025e+02]\n",
      " [9.95465601e+00]\n",
      " [5.22121856e+01]\n",
      " [5.12913792e-01]\n",
      " [1.23404664e+01]\n",
      " [2.81409030e+01]\n",
      " [3.14462993e-01]\n",
      " [1.33356432e+01]\n",
      " [2.90445545e+01]\n",
      " [9.85080996e+00]\n",
      " [4.73802289e+02]\n",
      " [1.81731690e+01]\n",
      " [2.69101562e+01]\n",
      " [9.50180625e+00]\n",
      " [5.12479044e+02]\n",
      " [1.82277001e+02]\n",
      " [4.96559809e+01]\n",
      " [2.15854864e+02]\n",
      " [5.83077609e+02]\n",
      " [1.48840000e+00]\n",
      " [3.59592116e+01]\n",
      " [1.47233956e+02]\n",
      " [3.42065025e+00]\n",
      " [4.28056148e+01]\n",
      " [2.08145813e+01]\n",
      " [1.69447490e+01]\n",
      " [1.15110918e+01]\n",
      " [1.02353689e+02]\n",
      " [3.02214068e+01]\n",
      " [3.09770165e-01]\n",
      " [1.52998323e+01]\n",
      " [2.90025332e+01]\n",
      " [5.95652836e+00]\n",
      " [4.53171312e+01]\n",
      " [1.09474369e+00]\n",
      " [2.63548757e+01]\n",
      " [3.40033600e+00]\n",
      " [6.40688185e+01]\n",
      " [1.03612041e+00]\n",
      " [4.55679002e+01]\n",
      " [3.38412816e+00]\n",
      " [1.83912322e+01]\n",
      " [2.49810036e+01]\n",
      " [2.02578289e+00]\n",
      " [2.01952521e+00]\n",
      " [6.12859536e+00]\n",
      " [2.11986576e+01]\n",
      " [1.57006138e+01]\n",
      " [2.93124788e+01]\n",
      " [2.67226964e+01]\n",
      " [5.51736984e-01]\n",
      " [3.21449041e+02]\n",
      " [1.45298916e+02]\n",
      " [2.90838916e+02]\n",
      " [2.38651790e+01]\n",
      " [3.29958336e+01]\n",
      " [6.04568452e+01]\n",
      " [1.03489929e+00]\n",
      " [4.40664064e+02]\n",
      " [4.46210640e+01]\n",
      " [1.62078708e+01]\n",
      " [1.63430656e+00]\n",
      " [1.11629492e+01]\n",
      " [7.18615249e+00]\n",
      " [8.80783684e-02]\n",
      " [1.50893403e+01]\n",
      " [3.25059620e+01]\n",
      " [4.55976068e+01]\n",
      " [4.23371776e+00]\n",
      " [2.29949021e-01]\n",
      " [4.17017241e-02]\n",
      " [4.60511532e-01]\n",
      " [5.69043923e+01]\n",
      " [2.85540610e+01]\n",
      " [1.79903223e+01]\n",
      " [4.62141636e+01]\n",
      " [8.59236303e-01]\n",
      " [2.31040000e-02]\n",
      " [7.96029796e+00]\n",
      " [3.40439401e+00]\n",
      " [1.84547568e+01]\n",
      " [5.18817684e+01]\n",
      " [3.94777161e+00]\n",
      " [2.08918116e-02]\n",
      " [8.19948360e+01]\n",
      " [3.80750702e-01]]\n"
     ]
    },
    {
     "data": {
      "text/plain": [
       "32.072733877455676"
      ]
     },
     "execution_count": 36,
     "metadata": {},
     "output_type": "execute_result"
    }
   ],
   "source": [
    "##### WRITE YOUR CODE HERE #####\n",
    "data_n=data.values\n",
    "m=data_n[:,0].size\n",
    "X=np.append(np.ones((m,1)),data_n[:,0].reshape(m,1),axis=1)\n",
    "y=data_n[:,1].reshape(m,1)\n",
    "theta=np.zeros((2,1))\n",
    "\n",
    "################################\n",
    "\n",
    "computeCost(X,y,theta)"
   ]
  },
  {
   "cell_type": "markdown",
   "metadata": {
    "id": "rTf9f5ygyZpR"
   },
   "source": [
    "### Gradient Descent\n",
    "\n",
    "Minimize the cost function $J(\\Theta)$ \n",
    "\n",
    "By updating Equation and repeat until convergence\n",
    "        \n",
    "$\\Theta_j := \\Theta_j - \\alpha \\frac{1}{m} \\sum_{i=1}^m (h_{\\Theta}(x^{(i)}) - y^{(i)})x_j^{(i)}$ (simultaneously update $\\Theta_j$ for all $j$)\n",
    "\n",
    "At each iteration the costfunction value is stored in the J_History array so then the behavior of the algorithm can be graphically displayed.   \n"
   ]
  },
  {
   "cell_type": "code",
   "execution_count": 10,
   "metadata": {
    "executionInfo": {
     "elapsed": 640,
     "status": "ok",
     "timestamp": 1615295185146,
     "user": {
      "displayName": "Mouna Kacimi",
      "photoUrl": "",
      "userId": "13741257071130912570"
     },
     "user_tz": -60
    },
    "id": "XCI9OiEaycZt"
   },
   "outputs": [],
   "source": [
    "def gradientDescent(X,y,theta,alpha,num_iters):\n",
    "    \"\"\"\n",
    "    Take in numpy array X, y and theta and update theta by taking num_iters gradient steps\n",
    "    with learning rate of alpha\n",
    "    \n",
    "    return theta and the list of the cost of theta during each iteration\n",
    "    \"\"\"\n",
    "    \n",
    "    m=len(y) ## the number of training examples\n",
    "    J_history=[]\n",
    "    \n",
    "    for i in range(num_iters):\n",
    "\n",
    "      ##### WRITE YOUR CODE HERE #####\n",
    "      predictions = X.dot(theta)\n",
    "      error = np.dot(X.transpose(),(predictions -y))\n",
    "      descent=alpha * 1/m * error\n",
    "      theta-=descent\n",
    "      ################################\n",
    "      J_history.append(computeCost(X,y,theta))\n",
    "    \n",
    "    return theta, J_history"
   ]
  },
  {
   "cell_type": "markdown",
   "metadata": {
    "id": "TYkTIjZVysat"
   },
   "source": [
    "### Visualizing the Cost Function $J(\\Theta)$"
   ]
  },
  {
   "cell_type": "code",
   "execution_count": 11,
   "metadata": {
    "executionInfo": {
     "elapsed": 1178,
     "status": "ok",
     "timestamp": 1615295195252,
     "user": {
      "displayName": "Mouna Kacimi",
      "photoUrl": "",
      "userId": "13741257071130912570"
     },
     "user_tz": -60
    },
    "id": "xwX7SuUzyxBH"
   },
   "outputs": [],
   "source": [
    "from mpl_toolkits.mplot3d import Axes3D"
   ]
  },
  {
   "cell_type": "code",
   "execution_count": 12,
   "metadata": {
    "executionInfo": {
     "elapsed": 1199,
     "status": "ok",
     "timestamp": 1615295199195,
     "user": {
      "displayName": "Mouna Kacimi",
      "photoUrl": "",
      "userId": "13741257071130912570"
     },
     "user_tz": -60
    },
    "id": "Hb5O2AH0y2MY"
   },
   "outputs": [],
   "source": [
    "#Generating values for theta0, theta1 and the resulting cost value\n",
    "theta0_vals=np.linspace(-10,10,100)\n",
    "theta1_vals=np.linspace(-1,4,100)\n",
    "J_vals=np.zeros((len(theta0_vals),len(theta1_vals)))\n",
    "\n",
    "for i in range(len(theta0_vals)):\n",
    "    for j in range(len(theta1_vals)):\n",
    "        t=np.array([theta0_vals[i],theta1_vals[j]])\n",
    "        J_vals[i,j]=computeCost(X,y,t)"
   ]
  },
  {
   "cell_type": "code",
   "execution_count": 13,
   "metadata": {
    "colab": {
     "base_uri": "https://localhost:8080/",
     "height": 248
    },
    "executionInfo": {
     "elapsed": 2395,
     "status": "ok",
     "timestamp": 1615295204485,
     "user": {
      "displayName": "Mouna Kacimi",
      "photoUrl": "",
      "userId": "13741257071130912570"
     },
     "user_tz": -60
    },
    "id": "s4ardQIOy28w",
    "outputId": "bfc3f0f4-e941-4c4a-fb8b-5c81a46e8177"
   },
   "outputs": [
    {
     "data": {
      "image/png": "[encoded data removed]",
      "text/plain": [
       "<Figure size 432x288 with 2 Axes>"
      ]
     },
     "metadata": {
      "needs_background": "light"
     },
     "output_type": "display_data"
    }
   ],
   "source": [
    "#Generating the surface plot\n",
    "fig = plt.figure()\n",
    "ax = fig.add_subplot(111, projection='3d')\n",
    "surf=ax.plot_surface(theta0_vals,theta1_vals,J_vals,cmap=\"coolwarm\")\n",
    "fig.colorbar(surf, shrink=0.5, aspect=5)\n",
    "ax.set_xlabel(\"$\\Theta_0$\")\n",
    "ax.set_ylabel(\"$\\Theta_1$\")\n",
    "ax.set_zlabel(\"$J(\\Theta)$\")\n",
    "\n",
    "#rotate for better angle\n",
    "ax.view_init(30,120)\n"
   ]
  },
  {
   "cell_type": "code",
   "execution_count": 14,
   "metadata": {
    "colab": {
     "base_uri": "https://localhost:8080/"
    },
    "executionInfo": {
     "elapsed": 1286,
     "status": "ok",
     "timestamp": 1615295210605,
     "user": {
      "displayName": "Mouna Kacimi",
      "photoUrl": "",
      "userId": "13741257071130912570"
     },
     "user_tz": -60
    },
    "id": "FdourhPLzpXs",
    "outputId": "cdcee87c-24ac-4be3-da78-006137185691"
   },
   "outputs": [
    {
     "name": "stdout",
     "output_type": "stream",
     "text": [
      "h(x) =-3.63 + 1.17x1\n"
     ]
    }
   ],
   "source": [
    "theta,J_history = gradientDescent(X,y,theta,0.01,1500)\n",
    "print(\"h(x) =\"+str(round(theta[0,0],2))+\" + \"+str(round(theta[1,0],2))+\"x1\")"
   ]
  },
  {
   "cell_type": "markdown",
   "metadata": {
    "id": "TSjn7slizaeB"
   },
   "source": [
    "### Testing the implementation\n",
    "\n",
    "Plot $J(\\Theta)$ against the number of iteration "
   ]
  },
  {
   "cell_type": "code",
   "execution_count": 15,
   "metadata": {
    "colab": {
     "base_uri": "https://localhost:8080/",
     "height": 313
    },
    "executionInfo": {
     "elapsed": 751,
     "status": "ok",
     "timestamp": 1615295235660,
     "user": {
      "displayName": "Mouna Kacimi",
      "photoUrl": "",
      "userId": "13741257071130912570"
     },
     "user_tz": -60
    },
    "id": "-WlQDAC4zfES",
    "outputId": "ae1e26cd-ee5e-436d-84e7-86e4024479a4"
   },
   "outputs": [
    {
     "data": {
      "text/plain": [
       "Text(0.5, 1.0, 'Cost function using Gradient Descent')"
      ]
     },
     "execution_count": 15,
     "metadata": {},
     "output_type": "execute_result"
    },
    {
     "data": {
      "image/png": "[encoded data removed]",
      "text/plain": [
       "<Figure size 432x288 with 1 Axes>"
      ]
     },
     "metadata": {
      "needs_background": "light"
     },
     "output_type": "display_data"
    }
   ],
   "source": [
    "plt.plot(J_history)\n",
    "plt.xlabel(\"Iteration\")\n",
    "plt.ylabel(\"$J(\\Theta)$\")\n",
    "plt.title(\"Cost function using Gradient Descent\")"
   ]
  },
  {
   "cell_type": "markdown",
   "metadata": {
    "id": "MvKNcZZlz2QG"
   },
   "source": [
    "### Graph with Line of Best Fit"
   ]
  },
  {
   "cell_type": "code",
   "execution_count": 16,
   "metadata": {
    "colab": {
     "base_uri": "https://localhost:8080/",
     "height": 313
    },
    "executionInfo": {
     "elapsed": 1106,
     "status": "ok",
     "timestamp": 1615295247110,
     "user": {
      "displayName": "Mouna Kacimi",
      "photoUrl": "",
      "userId": "13741257071130912570"
     },
     "user_tz": -60
    },
    "id": "euAAyPkYz3ma",
    "outputId": "d2c4c0f1-7081-4a72-aa4a-c46e4ee55a98"
   },
   "outputs": [
    {
     "data": {
      "text/plain": [
       "Text(0.5, 1.0, 'Profit Prediction')"
      ]
     },
     "execution_count": 16,
     "metadata": {},
     "output_type": "execute_result"
    },
    {
     "data": {
      "image/png": "[encoded data removed]",
      "text/plain": [
       "<Figure size 432x288 with 1 Axes>"
      ]
     },
     "metadata": {
      "needs_background": "light"
     },
     "output_type": "display_data"
    }
   ],
   "source": [
    "plt.scatter(data[0],data[1])\n",
    "x_value=[x for x in range(25)]\n",
    "y_value=[y*theta[1]+theta[0] for y in x_value]\n",
    "plt.plot(x_value,y_value,color=\"r\")\n",
    "plt.xticks(np.arange(5,30,step=5))\n",
    "plt.yticks(np.arange(-5,30,step=5))\n",
    "plt.xlabel(\"Population of City (10,000s)\")\n",
    "plt.ylabel(\"Profit ($10,000\")\n",
    "plt.title(\"Profit Prediction\")"
   ]
  },
  {
   "cell_type": "markdown",
   "metadata": {
    "id": "8C6_a16K0Ghx"
   },
   "source": [
    "### Make predictions using the optimized $\\Theta$ values\n",
    "\n",
    "$h_\\Theta(x) = \\Theta^Tx$"
   ]
  },
  {
   "cell_type": "code",
   "execution_count": 17,
   "metadata": {
    "executionInfo": {
     "elapsed": 1059,
     "status": "ok",
     "timestamp": 1615295276883,
     "user": {
      "displayName": "Mouna Kacimi",
      "photoUrl": "",
      "userId": "13741257071130912570"
     },
     "user_tz": -60
    },
    "id": "oKQG84HS0IYN"
   },
   "outputs": [],
   "source": [
    "def predict(x,theta):\n",
    "    \"\"\"\n",
    "    Takes in numpy array of x and theta and return the predicted value of y based on theta\n",
    "    \"\"\"\n",
    "    ##### WRITE YOUR CODE HERE #####\n",
    "    predictions= np.dot(theta.transpose(),x) \n",
    "    ################################\n",
    "    \n",
    "    return predictions[0]"
   ]
  },
  {
   "cell_type": "markdown",
   "metadata": {
    "id": "GujdvLIdsGFp"
   },
   "source": [
    "Test the prediction function. The expected outcome should be:\n",
    "\n",
    "For population = 35,000, we predict a profit of $4520.0"
   ]
  },
  {
   "cell_type": "code",
   "execution_count": 18,
   "metadata": {
    "colab": {
     "base_uri": "https://localhost:8080/"
    },
    "executionInfo": {
     "elapsed": 658,
     "status": "ok",
     "timestamp": 1615295380468,
     "user": {
      "displayName": "Mouna Kacimi",
      "photoUrl": "",
      "userId": "13741257071130912570"
     },
     "user_tz": -60
    },
    "id": "nIteVYem0Oca",
    "outputId": "4f80d9a3-63bb-4dc0-f4b7-3e7b6d41d6b4"
   },
   "outputs": [
    {
     "name": "stdout",
     "output_type": "stream",
     "text": [
      "For population = 35,000, we predict a profit of $4520.0\n"
     ]
    }
   ],
   "source": [
    "predict1=predict(np.array([1,3.5]),theta)*10000\n",
    "print(\"For population = 35,000, we predict a profit of $\"+str(round(predict1,0)))"
   ]
  },
  {
   "cell_type": "markdown",
   "metadata": {
    "id": "-8OqNK9RsWVm"
   },
   "source": [
    "## 2) Linear Regression with Multiple Variable "
   ]
  },
  {
   "cell_type": "markdown",
   "metadata": {
    "id": "tEGBGOaa0hqu"
   },
   "source": [
    "### Loading of Data"
   ]
  },
  {
   "cell_type": "code",
   "execution_count": 19,
   "metadata": {
    "executionInfo": {
     "elapsed": 1405,
     "status": "ok",
     "timestamp": 1615295402083,
     "user": {
      "displayName": "Mouna Kacimi",
      "photoUrl": "",
      "userId": "13741257071130912570"
     },
     "user_tz": -60
    },
    "id": "Mc-tdJQq0de6"
   },
   "outputs": [],
   "source": [
    "data2=pd.read_csv(\"Multi_linear.txt\", header=None)"
   ]
  },
  {
   "cell_type": "markdown",
   "metadata": {
    "id": "vfTYDVEG0w9b"
   },
   "source": [
    "### Ploting of Data\n"
   ]
  },
  {
   "cell_type": "code",
   "execution_count": 20,
   "metadata": {
    "colab": {
     "base_uri": "https://localhost:8080/",
     "height": 249
    },
    "executionInfo": {
     "elapsed": 1415,
     "status": "ok",
     "timestamp": 1615295404350,
     "user": {
      "displayName": "Mouna Kacimi",
      "photoUrl": "",
      "userId": "13741257071130912570"
     },
     "user_tz": -60
    },
    "id": "50SGag-d02Cv",
    "outputId": "e0b3472c-3520-4b53-d930-4203c5717d94"
   },
   "outputs": [
    {
     "data": {
      "image/png": "[encoded data removed]",
      "text/plain": [
       "<Figure size 864x288 with 2 Axes>"
      ]
     },
     "metadata": {
      "needs_background": "light"
     },
     "output_type": "display_data"
    }
   ],
   "source": [
    "# Create 2 subplot, 1 for each variable\n",
    "fig, axes = plt.subplots(figsize=(12,4),nrows=1,ncols=2)\n",
    "\n",
    "axes[0].scatter(data2[0],data2[2],color=\"b\")\n",
    "axes[0].set_xlabel(\"Size (Square Feet)\")\n",
    "axes[0].set_ylabel(\"Prices\")\n",
    "axes[0].set_title(\"House prices against size of house\")\n",
    "axes[1].scatter(data2[1],data2[2],color=\"r\")\n",
    "axes[1].set_xlabel(\"Number of bedroom\")\n",
    "axes[1].set_ylabel(\"Prices\")\n",
    "axes[1].set_xticks(np.arange(1,6,step=1))\n",
    "axes[1].set_title(\"House prices against number of bedroom\")\n",
    "\n",
    "# Enhance layout\n",
    "plt.tight_layout()"
   ]
  },
  {
   "cell_type": "markdown",
   "metadata": {
    "id": "gOa4ZOdp07do"
   },
   "source": [
    "### Feature Normalization\n",
    "\n",
    "To make sure features are on a similar scale:\n",
    "\n",
    "$x_i = \\frac{x_i - \\mu_i}{\\sigma_i}$"
   ]
  },
  {
   "cell_type": "code",
   "execution_count": 21,
   "metadata": {
    "executionInfo": {
     "elapsed": 789,
     "status": "ok",
     "timestamp": 1615295441118,
     "user": {
      "displayName": "Mouna Kacimi",
      "photoUrl": "",
      "userId": "13741257071130912570"
     },
     "user_tz": -60
    },
    "id": "Y-7rPaoh09kb"
   },
   "outputs": [],
   "source": [
    "def featureNormalization(X):\n",
    "    \"\"\"\n",
    "    Take in numpy array of X values and return normalize X values,\n",
    "    the mean and standard deviation of each feature\n",
    "    \"\"\"\n",
    "    mean=np.mean(X,axis=0)\n",
    "    std=np.std(X,axis=0)\n",
    "    \n",
    "    ##### WRITE YOUR CODE HERE #####\n",
    "    X_norm = (X - mean)/std\n",
    "    ################################\n",
    "    \n",
    "    return X_norm , mean , std"
   ]
  },
  {
   "cell_type": "markdown",
   "metadata": {
    "id": "nNw8y213tpg3"
   },
   "source": [
    "Now Apply feature normalization on the dataset above. Do not forget to first normalize the features and then add the feature for the bias parameter  $x_0=1$. Moreoverm initialize your the theta vector to 0. "
   ]
  },
  {
   "cell_type": "code",
   "execution_count": 27,
   "metadata": {
    "executionInfo": {
     "elapsed": 624,
     "status": "ok",
     "timestamp": 1615295461106,
     "user": {
      "displayName": "Mouna Kacimi",
      "photoUrl": "",
      "userId": "13741257071130912570"
     },
     "user_tz": -60
    },
    "id": "jwUeWTdg1C5e"
   },
   "outputs": [],
   "source": [
    " ##### WRITE YOUR CODE HERE #####\n",
    "data_n2=data2.values\n",
    "m2=len(data_n2[:,-1])\n",
    "X2=data_n2[:,0:2].reshape(m2,2)\n",
    "X2, mean_X2, std_X2 = featureNormalization(X2)\n",
    "X2 = np.append(np.ones((m2,1)),X2,axis=1)\n",
    "y2=data_n2[:,-1].reshape(m2,1)\n",
    "theta2=np.zeros((3,1))\n",
    " ################################"
   ]
  },
  {
   "cell_type": "code",
   "execution_count": 29,
   "metadata": {},
   "outputs": [
    {
     "data": {
      "text/plain": [
       "array([[ 1.00000000e+00,  1.31415422e-01, -2.26093368e-01],\n",
       "       [ 1.00000000e+00, -5.09640698e-01, -2.26093368e-01],\n",
       "       [ 1.00000000e+00,  5.07908699e-01, -2.26093368e-01],\n",
       "       [ 1.00000000e+00, -7.43677059e-01, -1.55439190e+00],\n",
       "       [ 1.00000000e+00,  1.27107075e+00,  1.10220517e+00],\n",
       "       [ 1.00000000e+00, -1.99450507e-02,  1.10220517e+00],\n",
       "       [ 1.00000000e+00, -5.93588523e-01, -2.26093368e-01],\n",
       "       [ 1.00000000e+00, -7.29685755e-01, -2.26093368e-01],\n",
       "       [ 1.00000000e+00, -7.89466782e-01, -2.26093368e-01],\n",
       "       [ 1.00000000e+00, -6.44465993e-01, -2.26093368e-01],\n",
       "       [ 1.00000000e+00, -7.71822042e-02,  1.10220517e+00],\n",
       "       [ 1.00000000e+00, -8.65999486e-04, -2.26093368e-01],\n",
       "       [ 1.00000000e+00, -1.40779041e-01, -2.26093368e-01],\n",
       "       [ 1.00000000e+00,  3.15099326e+00,  2.43050370e+00],\n",
       "       [ 1.00000000e+00, -9.31923697e-01, -2.26093368e-01],\n",
       "       [ 1.00000000e+00,  3.80715024e-01,  1.10220517e+00],\n",
       "       [ 1.00000000e+00, -8.65782986e-01, -1.55439190e+00],\n",
       "       [ 1.00000000e+00, -9.72625673e-01, -2.26093368e-01],\n",
       "       [ 1.00000000e+00,  7.73743478e-01,  1.10220517e+00],\n",
       "       [ 1.00000000e+00,  1.31050078e+00,  1.10220517e+00],\n",
       "       [ 1.00000000e+00, -2.97227261e-01, -2.26093368e-01],\n",
       "       [ 1.00000000e+00, -1.43322915e-01, -1.55439190e+00],\n",
       "       [ 1.00000000e+00, -5.04552951e-01, -2.26093368e-01],\n",
       "       [ 1.00000000e+00, -4.91995958e-02,  1.10220517e+00],\n",
       "       [ 1.00000000e+00,  2.40309445e+00, -2.26093368e-01],\n",
       "       [ 1.00000000e+00, -1.14560907e+00, -2.26093368e-01],\n",
       "       [ 1.00000000e+00, -6.90255715e-01, -2.26093368e-01],\n",
       "       [ 1.00000000e+00,  6.68172729e-01, -2.26093368e-01],\n",
       "       [ 1.00000000e+00,  2.53521350e-01, -2.26093368e-01],\n",
       "       [ 1.00000000e+00,  8.09357707e-01, -2.26093368e-01],\n",
       "       [ 1.00000000e+00, -2.05647815e-01, -1.55439190e+00],\n",
       "       [ 1.00000000e+00, -1.27280274e+00, -2.88269044e+00],\n",
       "       [ 1.00000000e+00,  5.00114703e-02,  1.10220517e+00],\n",
       "       [ 1.00000000e+00,  1.44532608e+00, -2.26093368e-01],\n",
       "       [ 1.00000000e+00, -2.41262044e-01,  1.10220517e+00],\n",
       "       [ 1.00000000e+00, -7.16966387e-01, -2.26093368e-01],\n",
       "       [ 1.00000000e+00, -9.68809863e-01, -2.26093368e-01],\n",
       "       [ 1.00000000e+00,  1.67029651e-01,  1.10220517e+00],\n",
       "       [ 1.00000000e+00,  2.81647389e+00,  1.10220517e+00],\n",
       "       [ 1.00000000e+00,  2.05187753e-01,  1.10220517e+00],\n",
       "       [ 1.00000000e+00, -4.28236746e-01, -1.55439190e+00],\n",
       "       [ 1.00000000e+00,  3.01854946e-01, -2.26093368e-01],\n",
       "       [ 1.00000000e+00,  7.20322135e-01,  1.10220517e+00],\n",
       "       [ 1.00000000e+00, -1.01841540e+00, -2.26093368e-01],\n",
       "       [ 1.00000000e+00, -1.46104938e+00, -1.55439190e+00],\n",
       "       [ 1.00000000e+00, -1.89112638e-01,  1.10220517e+00],\n",
       "       [ 1.00000000e+00, -1.01459959e+00, -2.26093368e-01]])"
      ]
     },
     "execution_count": 29,
     "metadata": {},
     "output_type": "execute_result"
    }
   ],
   "source": [
    "X2"
   ]
  },
  {
   "cell_type": "markdown",
   "metadata": {
    "id": "gapf3Lgs1Hwo"
   },
   "source": [
    "### Compute Cost $J(\\Theta)$\n",
    "\n",
    "In the multivariate case, the cost function can also be written in the following vectorized form:\n",
    "\n",
    "$J(\\Theta) = \\frac{1}{2m} (X\\Theta - \\overrightarrow{y})^T (X\\Theta - \\overrightarrow{y})$\n",
    "\n",
    "Test the cost function on your data with the initila values of theta equal to 0. The ecpected outcome is: 65591548106.45744. "
   ]
  },
  {
   "cell_type": "code",
   "execution_count": 28,
   "metadata": {
    "colab": {
     "base_uri": "https://localhost:8080/"
    },
    "executionInfo": {
     "elapsed": 841,
     "status": "ok",
     "timestamp": 1615295472454,
     "user": {
      "displayName": "Mouna Kacimi",
      "photoUrl": "",
      "userId": "13741257071130912570"
     },
     "user_tz": -60
    },
    "id": "ncN-nqEV1L20",
    "outputId": "79c56ac3-91d3-4871-ba4c-5a6ae897473d"
   },
   "outputs": [
    {
     "data": {
      "text/plain": [
       "65591548106.45744"
      ]
     },
     "execution_count": 28,
     "metadata": {},
     "output_type": "execute_result"
    }
   ],
   "source": [
    "\n",
    "computeCost(X2,y2,theta2)\n"
   ]
  },
  {
   "cell_type": "markdown",
   "metadata": {
    "id": "uDwrvCdz1ROY"
   },
   "source": [
    "### Gradient Descent\n",
    "\n",
    "Test the previousely implemented gradient decent algoritm by running the followinf code. The expected outcome is: h(x) =340412.66 + 109447.8x1 + -6578.35x2. "
   ]
  },
  {
   "cell_type": "code",
   "execution_count": 29,
   "metadata": {
    "colab": {
     "base_uri": "https://localhost:8080/"
    },
    "executionInfo": {
     "elapsed": 724,
     "status": "ok",
     "timestamp": 1615295479971,
     "user": {
      "displayName": "Mouna Kacimi",
      "photoUrl": "",
      "userId": "13741257071130912570"
     },
     "user_tz": -60
    },
    "id": "vAe0LNo91ToO",
    "outputId": "a16eb92c-cd57-4de0-a6a6-090dadb94fb8"
   },
   "outputs": [
    {
     "name": "stdout",
     "output_type": "stream",
     "text": [
      "h(x) =340412.66 + 109447.8x1 + -6578.35x2\n"
     ]
    }
   ],
   "source": [
    "theta2, J_history2 = gradientDescent(X2,y2,theta2,0.1,400)\n",
    "print(\"h(x) =\"+str(round(theta2[0,0],2))+\" + \"+str(round(theta2[1,0],2))+\"x1 + \"+str(round(theta2[2,0],2))+\"x2\")"
   ]
  },
  {
   "cell_type": "markdown",
   "metadata": {
    "id": "Zdh8UZs51ZTI"
   },
   "source": [
    "### Visualizing the Cost Function $J(\\Theta)$\n"
   ]
  },
  {
   "cell_type": "code",
   "execution_count": 31,
   "metadata": {
    "colab": {
     "base_uri": "https://localhost:8080/",
     "height": 313
    },
    "executionInfo": {
     "elapsed": 1057,
     "status": "ok",
     "timestamp": 1615295489532,
     "user": {
      "displayName": "Mouna Kacimi",
      "photoUrl": "",
      "userId": "13741257071130912570"
     },
     "user_tz": -60
    },
    "id": "eTLg_Qds1ak6",
    "outputId": "4dddcaf6-dc11-40a2-a461-a8656300c347"
   },
   "outputs": [
    {
     "data": {
      "text/plain": [
       "Text(0.5, 1.0, 'Cost function using Gradient Descent')"
      ]
     },
     "execution_count": 31,
     "metadata": {
      "tags": []
     },
     "output_type": "execute_result"
    },
    {
     "data": {
      "image/png": "[encoded data removed]",
      "text/plain": [
       "<Figure size 432x288 with 1 Axes>"
      ]
     },
     "metadata": {
      "needs_background": "light",
      "tags": []
     },
     "output_type": "display_data"
    }
   ],
   "source": [
    "plt.plot(J_history2)\n",
    "plt.xlabel(\"Iteration\")\n",
    "plt.ylabel(\"$J(\\Theta)$\")\n",
    "plt.title(\"Cost function using Gradient Descent\")"
   ]
  },
  {
   "cell_type": "markdown",
   "metadata": {
    "id": "K53YlM-21jOo"
   },
   "source": [
    "### Make predictions using the optimized $\\Theta$ values\n",
    "\n",
    "Predict the house price for the following features: \n",
    "size = 1650, Number of bedroom = 3. Do not forget to normalize the features of the input before doing the prediction. \n",
    "The exepected outcome is $456439.0"
   ]
  },
  {
   "cell_type": "code",
   "execution_count": 33,
   "metadata": {
    "colab": {
     "base_uri": "https://localhost:8080/"
    },
    "executionInfo": {
     "elapsed": 693,
     "status": "ok",
     "timestamp": 1615295545577,
     "user": {
      "displayName": "Mouna Kacimi",
      "photoUrl": "",
      "userId": "13741257071130912570"
     },
     "user_tz": -60
    },
    "id": "4jCTIzdM1lfU",
    "outputId": "31137628-b654-4b35-ef2c-865f90f7e9c4"
   },
   "outputs": [
    {
     "name": "stdout",
     "output_type": "stream",
     "text": [
      "For size of house = 1650, Number of bedroom = 3, we predict a house value of $456439.0\n"
     ]
    }
   ],
   "source": [
    "#feature normalisation of x values\n",
    "x_sample = featureNormalization(np.array([1650,3]))[0]\n",
    "x_sample=np.append(np.ones(1),x_sample)\n",
    "predict3=predict(x_sample,theta2)\n",
    "print(\"For size of house = 1650, Number of bedroom = 3, we predict a house value of $\"+str(round(predict3,0)))\n"
   ]
  }
 ],
 "metadata": {
  "colab": {
   "authorship_tag": "ABX9TyM8p+1i2o4WD+N81I4EnqK/",
   "collapsed_sections": [],
   "mount_file_id": "1zLd0QOi-AOCyHK_4TtlhhCtRGgH3RhwY",
   "name": "Lab2_Solution.ipynb",
   "provenance": []
  },
  "kernelspec": {
   "display_name": "Python 3",
   "language": "python",
   "name": "python3"
  },
  "language_info": {
   "codemirror_mode": {
    "name": "ipython",
    "version": 3
   },
   "file_extension": ".py",
   "mimetype": "text/x-python",
   "name": "python",
   "nbconvert_exporter": "python",
   "pygments_lexer": "ipython3",
   "version": "3.8.5"
  }
 },
 "nbformat": 4,
 "nbformat_minor": 1
}
